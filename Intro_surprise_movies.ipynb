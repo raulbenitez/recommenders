{
  "nbformat": 4,
  "nbformat_minor": 0,
  "metadata": {
    "colab": {
      "name": "Intro_surprise_movies.ipynb",
      "provenance": []
    },
    "kernelspec": {
      "name": "python3",
      "display_name": "Python 3"
    }
  },
  "cells": [
    {
      "cell_type": "markdown",
      "metadata": {
        "id": "Hp6mGoOqa8IB"
      },
      "source": [
        "## Install surpise libraries:"
      ]
    },
    {
      "cell_type": "code",
      "metadata": {
        "colab": {
          "base_uri": "https://localhost:8080/"
        },
        "id": "chYt2RSOD72a",
        "outputId": "5277cf1d-769f-45ea-fecc-97a2130e5e58"
      },
      "source": [
        "!pip install scikit-surprise"
      ],
      "execution_count": null,
      "outputs": [
        {
          "output_type": "stream",
          "text": [
            "Collecting scikit-surprise\n",
            "\u001b[?25l  Downloading https://files.pythonhosted.org/packages/97/37/5d334adaf5ddd65da99fc65f6507e0e4599d092ba048f4302fe8775619e8/scikit-surprise-1.1.1.tar.gz (11.8MB)\n",
            "\u001b[K     |████████████████████████████████| 11.8MB 342kB/s \n",
            "\u001b[?25hRequirement already satisfied: joblib>=0.11 in /usr/local/lib/python3.6/dist-packages (from scikit-surprise) (1.0.0)\n",
            "Requirement already satisfied: numpy>=1.11.2 in /usr/local/lib/python3.6/dist-packages (from scikit-surprise) (1.19.5)\n",
            "Requirement already satisfied: scipy>=1.0.0 in /usr/local/lib/python3.6/dist-packages (from scikit-surprise) (1.4.1)\n",
            "Requirement already satisfied: six>=1.10.0 in /usr/local/lib/python3.6/dist-packages (from scikit-surprise) (1.15.0)\n",
            "Building wheels for collected packages: scikit-surprise\n",
            "  Building wheel for scikit-surprise (setup.py) ... \u001b[?25l\u001b[?25hdone\n",
            "  Created wheel for scikit-surprise: filename=scikit_surprise-1.1.1-cp36-cp36m-linux_x86_64.whl size=1618272 sha256=217db30157466009721ae15db4c6fc2671a1a349340a4e44a803f3505ad30a23\n",
            "  Stored in directory: /root/.cache/pip/wheels/78/9c/3d/41b419c9d2aff5b6e2b4c0fc8d25c538202834058f9ed110d0\n",
            "Successfully built scikit-surprise\n",
            "Installing collected packages: scikit-surprise\n",
            "Successfully installed scikit-surprise-1.1.1\n"
          ],
          "name": "stdout"
        }
      ]
    },
    {
      "cell_type": "markdown",
      "metadata": {
        "id": "Wqu7JWVgbBPI"
      },
      "source": [
        "## Load movies dataset from built-in suprise libraries:\n",
        "\n",
        "And do some exploration of the data\n"
      ]
    },
    {
      "cell_type": "code",
      "metadata": {
        "colab": {
          "base_uri": "https://localhost:8080/"
        },
        "id": "a5GyUAHrDwuJ",
        "outputId": "dd946cf4-1908-4ee5-eb44-75003de47e15"
      },
      "source": [
        "from surprise import SVD\n",
        "from surprise import Dataset\n",
        "from surprise.model_selection import cross_validate\n",
        "\n",
        "data = Dataset.load_builtin('ml-100k')"
      ],
      "execution_count": 13,
      "outputs": [
        {
          "output_type": "stream",
          "text": [
            "Dataset ml-100k could not be found. Do you want to download it? [Y/n] Y\n",
            "Trying to download dataset from http://files.grouplens.org/datasets/movielens/ml-100k.zip...\n",
            "Done! Dataset ml-100k has been saved to /root/.surprise_data/ml-100k\n"
          ],
          "name": "stdout"
        }
      ]
    },
    {
      "cell_type": "markdown",
      "metadata": {
        "id": "FAEs7rvhbgsv"
      },
      "source": [
        "Load as a pandas dataframe for convenience to manipulate data:"
      ]
    },
    {
      "cell_type": "code",
      "metadata": {
        "colab": {
          "base_uri": "https://localhost:8080/",
          "height": 198
        },
        "id": "22xd2-iGDzES",
        "outputId": "0070c856-f07b-4934-d655-4e8a9d01c098"
      },
      "source": [
        "import pandas as pd\n",
        "dataframe = pd.DataFrame(data.__dict__['raw_ratings'], columns=['user_id', 'item_id', 'rating', 'timestamp'])\n",
        "dataframe.head()"
      ],
      "execution_count": 14,
      "outputs": [
        {
          "output_type": "execute_result",
          "data": {
            "text/html": [
              "<div>\n",
              "<style scoped>\n",
              "    .dataframe tbody tr th:only-of-type {\n",
              "        vertical-align: middle;\n",
              "    }\n",
              "\n",
              "    .dataframe tbody tr th {\n",
              "        vertical-align: top;\n",
              "    }\n",
              "\n",
              "    .dataframe thead th {\n",
              "        text-align: right;\n",
              "    }\n",
              "</style>\n",
              "<table border=\"1\" class=\"dataframe\">\n",
              "  <thead>\n",
              "    <tr style=\"text-align: right;\">\n",
              "      <th></th>\n",
              "      <th>user_id</th>\n",
              "      <th>item_id</th>\n",
              "      <th>rating</th>\n",
              "      <th>timestamp</th>\n",
              "    </tr>\n",
              "  </thead>\n",
              "  <tbody>\n",
              "    <tr>\n",
              "      <th>0</th>\n",
              "      <td>196</td>\n",
              "      <td>242</td>\n",
              "      <td>3.0</td>\n",
              "      <td>881250949</td>\n",
              "    </tr>\n",
              "    <tr>\n",
              "      <th>1</th>\n",
              "      <td>186</td>\n",
              "      <td>302</td>\n",
              "      <td>3.0</td>\n",
              "      <td>891717742</td>\n",
              "    </tr>\n",
              "    <tr>\n",
              "      <th>2</th>\n",
              "      <td>22</td>\n",
              "      <td>377</td>\n",
              "      <td>1.0</td>\n",
              "      <td>878887116</td>\n",
              "    </tr>\n",
              "    <tr>\n",
              "      <th>3</th>\n",
              "      <td>244</td>\n",
              "      <td>51</td>\n",
              "      <td>2.0</td>\n",
              "      <td>880606923</td>\n",
              "    </tr>\n",
              "    <tr>\n",
              "      <th>4</th>\n",
              "      <td>166</td>\n",
              "      <td>346</td>\n",
              "      <td>1.0</td>\n",
              "      <td>886397596</td>\n",
              "    </tr>\n",
              "  </tbody>\n",
              "</table>\n",
              "</div>"
            ],
            "text/plain": [
              "  user_id item_id  rating  timestamp\n",
              "0     196     242     3.0  881250949\n",
              "1     186     302     3.0  891717742\n",
              "2      22     377     1.0  878887116\n",
              "3     244      51     2.0  880606923\n",
              "4     166     346     1.0  886397596"
            ]
          },
          "metadata": {
            "tags": []
          },
          "execution_count": 14
        }
      ]
    },
    {
      "cell_type": "markdown",
      "metadata": {
        "id": "awECRWC1eKW_"
      },
      "source": [
        "Dimension of the dataframe"
      ]
    },
    {
      "cell_type": "code",
      "metadata": {
        "colab": {
          "base_uri": "https://localhost:8080/"
        },
        "id": "wUN7dqSweMGF",
        "outputId": "b28594d9-c0ad-4f64-9d41-d04ca3f8c228"
      },
      "source": [
        "dataframe.shape"
      ],
      "execution_count": 15,
      "outputs": [
        {
          "output_type": "execute_result",
          "data": {
            "text/plain": [
              "(100000, 4)"
            ]
          },
          "metadata": {
            "tags": []
          },
          "execution_count": 15
        }
      ]
    },
    {
      "cell_type": "code",
      "metadata": {
        "colab": {
          "base_uri": "https://localhost:8080/"
        },
        "id": "OAK_R730WkkJ",
        "outputId": "5b9a0309-bd47-4fa4-804b-58ed074b288b"
      },
      "source": [
        "print(\"Sample row in the dataset:\")\n",
        "print(dataframe.loc[0])\n",
        "print(\"\\n\")\n",
        "print(\"Sample column (item_id) in the dataset (first 10 values):\")\n",
        "print(dataframe[\"item_id\"].head(10))\n",
        "print(\"\\n\")"
      ],
      "execution_count": 16,
      "outputs": [
        {
          "output_type": "stream",
          "text": [
            "Sample row in the dataset:\n",
            "user_id            196\n",
            "item_id            242\n",
            "rating               3\n",
            "timestamp    881250949\n",
            "Name: 0, dtype: object\n",
            "\n",
            "\n",
            "Sample column (item_id) in the dataset (first 10 values):\n",
            "0    242\n",
            "1    302\n",
            "2    377\n",
            "3     51\n",
            "4    346\n",
            "5    474\n",
            "6    265\n",
            "7    465\n",
            "8    451\n",
            "9     86\n",
            "Name: item_id, dtype: object\n",
            "\n",
            "\n"
          ],
          "name": "stdout"
        }
      ]
    },
    {
      "cell_type": "markdown",
      "metadata": {
        "id": "wfRlILwzbP8r"
      },
      "source": [
        "Check how many users and and items are there in the dataset:"
      ]
    },
    {
      "cell_type": "code",
      "metadata": {
        "colab": {
          "base_uri": "https://localhost:8080/"
        },
        "id": "gQEV-g5NZeq0",
        "outputId": "10f00189-3cf4-4440-c2bf-d1cb39523ee1"
      },
      "source": [
        "print(\"Number of users in the database = \" + str(dataframe[\"user_id\"].nunique()))\n",
        "print(\"Number of items in the database = \" + str(dataframe[\"item_id\"].nunique()))"
      ],
      "execution_count": 17,
      "outputs": [
        {
          "output_type": "stream",
          "text": [
            "Number of users in the database = 943\n",
            "Number of items in the database = 1682\n"
          ],
          "name": "stdout"
        }
      ]
    },
    {
      "cell_type": "code",
      "metadata": {
        "colab": {
          "base_uri": "https://localhost:8080/"
        },
        "id": "X-6y0_5KWcem",
        "outputId": "b20b2adc-0f72-494a-d337-b1dc6806dbbd"
      },
      "source": [
        "raw_data = data.raw_ratings\n",
        "print(\"Each entry has the columns: user_id, item_id,  rating and timestamp\")\n",
        "print(raw_data[0])\n",
        "print(raw_data[1])\n",
        "print(raw_data[2])\n",
        "print(\"\\n\")"
      ],
      "execution_count": 18,
      "outputs": [
        {
          "output_type": "stream",
          "text": [
            "Each entry has the columns: user_id, item_id,  rating and timestamp\n",
            "('196', '242', 3.0, '881250949')\n",
            "('186', '302', 3.0, '891717742')\n",
            "('22', '377', 1.0, '878887116')\n",
            "\n",
            "\n"
          ],
          "name": "stdout"
        }
      ]
    },
    {
      "cell_type": "markdown",
      "metadata": {
        "id": "fhP69M4tbn4s"
      },
      "source": [
        "## Fit different recommender systems:\n",
        "\n",
        "First, create a trainable set using the build_full_trainset() method from surpise libraries:\n",
        "\n",
        "https://surprise.readthedocs.io/en/stable/dataset.html#surprise.dataset.DatasetAutoFolds.build_full_trainset\n",
        "\n"
      ]
    },
    {
      "cell_type": "code",
      "metadata": {
        "id": "RsKG-WXCW4vN"
      },
      "source": [
        "trainset = data.build_full_trainset()"
      ],
      "execution_count": 21,
      "outputs": []
    },
    {
      "cell_type": "markdown",
      "metadata": {
        "id": "xusfnM1McS8I"
      },
      "source": [
        "Now fit different recommender algorithms:\n",
        "\n"
      ]
    },
    {
      "cell_type": "code",
      "metadata": {
        "colab": {
          "base_uri": "https://localhost:8080/"
        },
        "id": "CBpdZqzycMWC",
        "outputId": "d26e1679-4a4e-4cf9-f7f7-c42f9d79708f"
      },
      "source": [
        "from surprise import SVD\n",
        "\n",
        "rec_svd = SVD()\n",
        "rec_svd.fit(trainset)"
      ],
      "execution_count": 43,
      "outputs": [
        {
          "output_type": "execute_result",
          "data": {
            "text/plain": [
              "<surprise.prediction_algorithms.matrix_factorization.SVD at 0x7f030118a3c8>"
            ]
          },
          "metadata": {
            "tags": []
          },
          "execution_count": 43
        }
      ]
    },
    {
      "cell_type": "markdown",
      "metadata": {
        "id": "Ux5UVg-WcqlO"
      },
      "source": [
        "Predict the ranking of a certain item item_id from a certain user user_id"
      ]
    },
    {
      "cell_type": "code",
      "metadata": {
        "colab": {
          "base_uri": "https://localhost:8080/"
        },
        "id": "1TUKc3xpcZ2t",
        "outputId": "8ed16f63-deae-40e9-8e29-27d4851e36e3"
      },
      "source": [
        "user_id = str(196)  # raw user id (as in the ratings file). They are **strings**!\n",
        "item_id = str(302)  # raw item id (as in the ratings file). They are **strings**!\n",
        "# the true ranking is useful to see if the prediction given by the system is accurate:\n",
        "true_ranking = 4\n",
        "\n",
        "pred_svd = rec_svd.predict(user_id, item_id, r_ui=true_ranking, verbose=True)\n"
      ],
      "execution_count": 44,
      "outputs": [
        {
          "output_type": "stream",
          "text": [
            "user: 196        item: 302        r_ui = 4.00   est = 4.30   {'was_impossible': False}\n"
          ],
          "name": "stdout"
        }
      ]
    },
    {
      "cell_type": "markdown",
      "metadata": {
        "id": "QOOCYMT8lgkx"
      },
      "source": [
        "Evaluate performance using training set:"
      ]
    },
    {
      "cell_type": "code",
      "metadata": {
        "colab": {
          "base_uri": "https://localhost:8080/"
        },
        "id": "tODPjyrulszt",
        "outputId": "f17f41be-3acc-4b8f-c75d-476b45326391"
      },
      "source": [
        "from surprise import accuracy\n",
        "\n",
        "testset = trainset.build_testset()\n",
        "train_pred = rec_svd.test(testset)\n",
        "accuracy.rmse(train_pred)\n",
        "accuracy.mae(train_pred)\n",
        "accuracy.mse(train_pred)"
      ],
      "execution_count": 45,
      "outputs": [
        {
          "output_type": "stream",
          "text": [
            "RMSE: 0.7155\n",
            "MAE:  0.5727\n",
            "MSE: 0.5120\n"
          ],
          "name": "stdout"
        },
        {
          "output_type": "execute_result",
          "data": {
            "text/plain": [
              "0.5119744670979155"
            ]
          },
          "metadata": {
            "tags": []
          },
          "execution_count": 45
        }
      ]
    },
    {
      "cell_type": "markdown",
      "metadata": {
        "id": "wzGfLHiHndVk"
      },
      "source": [
        "If we evaluate the performance with the training set we get a very low prediction error since the observations user to construct the model are also used to test it. This is not the normal procedure in machine learning. Instead, \n",
        "we split the dataset in training and test subsets. Let's see what happens when applying different propostions for the training and test subsets. \n"
      ]
    },
    {
      "cell_type": "markdown",
      "metadata": {
        "id": "V-qeR-brljvQ"
      },
      "source": [
        "Now split training and test:"
      ]
    },
    {
      "cell_type": "code",
      "metadata": {
        "colab": {
          "base_uri": "https://localhost:8080/"
        },
        "id": "0Ydg9c6jc8fY",
        "outputId": "20b3ee29-9532-4e89-b7fe-124fe96201d3"
      },
      "source": [
        "\n",
        "from surprise.model_selection import train_test_split\n",
        "\n",
        "print('90% training 10% test:')\n",
        "trainset, testset = train_test_split(data, test_size=.1)\n",
        "rec_svd.fit(trainset)\n",
        "train_pred = rec_svd.test(testset)\n",
        "accuracy.rmse(train_pred)\n",
        "accuracy.mae(train_pred)\n",
        "accuracy.mse(train_pred)\n",
        "\n",
        "print('75% training 25% test:')\n",
        "trainset, testset = train_test_split(data, test_size=.25)\n",
        "rec_svd.fit(trainset)\n",
        "train_pred = rec_svd.test(testset)\n",
        "accuracy.rmse(train_pred)\n",
        "accuracy.mae(train_pred)\n",
        "accuracy.mse(train_pred)\n",
        "\n",
        "print('10% training 90% test:')\n",
        "trainset, testset = train_test_split(data, test_size=.9)\n",
        "rec_svd.fit(trainset)\n",
        "train_pred = rec_svd.test(testset)\n",
        "accuracy.rmse(train_pred)\n",
        "accuracy.mae(train_pred)\n",
        "accuracy.mse(train_pred)\n"
      ],
      "execution_count": 46,
      "outputs": [
        {
          "output_type": "stream",
          "text": [
            "90% training 10% test:\n",
            "RMSE: 0.9381\n",
            "MAE:  0.7387\n",
            "MSE: 0.8800\n",
            "75% training 25% test:\n",
            "RMSE: 0.9287\n",
            "MAE:  0.7329\n",
            "MSE: 0.8625\n",
            "10% training 90% test:\n",
            "RMSE: 1.0048\n",
            "MAE:  0.8028\n",
            "MSE: 1.0096\n"
          ],
          "name": "stdout"
        },
        {
          "output_type": "execute_result",
          "data": {
            "text/plain": [
              "1.009561760635906"
            ]
          },
          "metadata": {
            "tags": []
          },
          "execution_count": 46
        }
      ]
    },
    {
      "cell_type": "markdown",
      "metadata": {
        "id": "p6w-2VXcoA5Z"
      },
      "source": [
        "It It is clear that the larger the training subset, the better the performance (i.e lower RMSE, MAE and MSE) when evaluated in the test subset. "
      ]
    },
    {
      "cell_type": "markdown",
      "metadata": {
        "id": "ycBwuHqNoNxp"
      },
      "source": [
        "# Cross-validation:\n",
        "\n",
        "Let's evaluate the performance using a 5-fold cross-validation (cv=5) procedure:\n"
      ]
    },
    {
      "cell_type": "code",
      "metadata": {
        "colab": {
          "base_uri": "https://localhost:8080/"
        },
        "id": "8zP9d2yrmW1X",
        "outputId": "0bc9ee49-eb31-418c-9ae6-f37f4d751c21"
      },
      "source": [
        "cross_validate(rec_svd, data, measures=['RMSE', 'MAE','MSE'], cv=5, verbose=True)"
      ],
      "execution_count": 47,
      "outputs": [
        {
          "output_type": "stream",
          "text": [
            "Evaluating RMSE, MAE, MSE of algorithm SVD on 5 split(s).\n",
            "\n",
            "                  Fold 1  Fold 2  Fold 3  Fold 4  Fold 5  Mean    Std     \n",
            "RMSE (testset)    0.9269  0.9386  0.9420  0.9360  0.9395  0.9366  0.0052  \n",
            "MAE (testset)     0.7291  0.7416  0.7416  0.7390  0.7405  0.7384  0.0047  \n",
            "MSE (testset)     0.8591  0.8811  0.8873  0.8760  0.8826  0.8772  0.0098  \n",
            "Fit time          5.12    5.09    5.11    5.08    5.13    5.11    0.02    \n",
            "Test time         0.14    0.52    0.14    0.14    0.15    0.22    0.15    \n"
          ],
          "name": "stdout"
        },
        {
          "output_type": "execute_result",
          "data": {
            "text/plain": [
              "{'fit_time': (5.1180994510650635,\n",
              "  5.093207359313965,\n",
              "  5.114635705947876,\n",
              "  5.07509708404541,\n",
              "  5.129374742507935),\n",
              " 'test_mae': array([0.729072  , 0.74157167, 0.74162703, 0.73900787, 0.74050806]),\n",
              " 'test_mse': array([0.85910454, 0.88106306, 0.88732791, 0.87601938, 0.88260475]),\n",
              " 'test_rmse': array([0.92687892, 0.93864959, 0.94198084, 0.93595907, 0.93947046]),\n",
              " 'test_time': (0.14036345481872559,\n",
              "  0.5181748867034912,\n",
              "  0.13877081871032715,\n",
              "  0.14102721214294434,\n",
              "  0.14541029930114746)}"
            ]
          },
          "metadata": {
            "tags": []
          },
          "execution_count": 47
        }
      ]
    },
    {
      "cell_type": "markdown",
      "metadata": {
        "id": "a7EYEGcPprXJ"
      },
      "source": [
        "The average results of the cv procedure indicate that the performance is closer to the one obtained with a train-test split of the 90% - 10% "
      ]
    },
    {
      "cell_type": "markdown",
      "metadata": {
        "id": "rL1p1wfPspaX"
      },
      "source": [
        "# Explore different parameters of the SVD recommender algorithm:\n",
        "\n",
        "https://surprise.readthedocs.io/en/stable/matrix_factorization.html#surprise.prediction_algorithms.matrix_factorization.SVD\n"
      ]
    },
    {
      "cell_type": "markdown",
      "metadata": {
        "id": "wSigfaoFuL2r"
      },
      "source": [
        "Compare biased SVD versus unbiased SVD: "
      ]
    },
    {
      "cell_type": "code",
      "metadata": {
        "colab": {
          "base_uri": "https://localhost:8080/"
        },
        "id": "aS2NXZpquVxc",
        "outputId": "57acee8c-92e1-4d99-ed87-7b01ca7e7026"
      },
      "source": [
        "rec_svd_unbiased = SVD(biased = 'false')\n",
        "cross_validate(rec_svd_unbiased, data, measures=['RMSE', 'MAE','MSE'], cv=5, verbose=True)"
      ],
      "execution_count": 49,
      "outputs": [
        {
          "output_type": "stream",
          "text": [
            "Evaluating RMSE, MAE, MSE of algorithm SVD on 5 split(s).\n",
            "\n",
            "                  Fold 1  Fold 2  Fold 3  Fold 4  Fold 5  Mean    Std     \n",
            "RMSE (testset)    0.9324  0.9426  0.9289  0.9305  0.9401  0.9349  0.0054  \n",
            "MAE (testset)     0.7347  0.7425  0.7324  0.7320  0.7416  0.7366  0.0045  \n",
            "MSE (testset)     0.8694  0.8885  0.8629  0.8658  0.8837  0.8741  0.0101  \n",
            "Fit time          5.18    5.10    5.16    5.06    5.11    5.12    0.04    \n",
            "Test time         0.16    0.15    0.15    0.15    0.16    0.15    0.00    \n"
          ],
          "name": "stdout"
        },
        {
          "output_type": "execute_result",
          "data": {
            "text/plain": [
              "{'fit_time': (5.178188800811768,\n",
              "  5.0956408977508545,\n",
              "  5.15776801109314,\n",
              "  5.0560736656188965,\n",
              "  5.111429214477539),\n",
              " 'test_mae': array([0.73468855, 0.74249372, 0.73241233, 0.73197725, 0.74156734]),\n",
              " 'test_mse': array([0.86936501, 0.88846342, 0.86290565, 0.86583297, 0.88370405]),\n",
              " 'test_rmse': array([0.93239745, 0.94258337, 0.92892715, 0.93050146, 0.94005535]),\n",
              " 'test_time': (0.15842747688293457,\n",
              "  0.1498558521270752,\n",
              "  0.15247678756713867,\n",
              "  0.151885986328125,\n",
              "  0.15920543670654297)}"
            ]
          },
          "metadata": {
            "tags": []
          },
          "execution_count": 49
        }
      ]
    },
    {
      "cell_type": "markdown",
      "metadata": {
        "id": "E8nL5K0wvEzB"
      },
      "source": [
        "The unbiased version is slightly better than the default biased one. "
      ]
    },
    {
      "cell_type": "markdown",
      "metadata": {
        "id": "pn4MI_bEpiE2"
      },
      "source": [
        "# Improve performance using grid search CV:\n",
        "\n",
        "\n",
        "https://surprise.readthedocs.io/en/stable/getting_started.html#tune-algorithm-parameters-with-gridsearchcv"
      ]
    },
    {
      "cell_type": "code",
      "metadata": {
        "colab": {
          "base_uri": "https://localhost:8080/"
        },
        "id": "hK8f3QnDmiPn",
        "outputId": "4a800a17-ed8b-4f15-d313-91aeaba02cc5"
      },
      "source": [
        "from surprise import SVD\n",
        "from surprise import Dataset\n",
        "from surprise.model_selection import GridSearchCV\n",
        "\n",
        "param_grid1 = {'biased': ['true', 'false']}\n",
        "gs = GridSearchCV(SVD, param_grid1, measures=['rmse', 'mae','mse'], cv=5)\n",
        "\n",
        "gs.fit(data)\n",
        "\n",
        "# best RMSE score\n",
        "print(gs.best_score['rmse'])\n",
        "print(gs.best_score['mae'])\n",
        "print(gs.best_score['mse'])\n",
        "\n",
        "\n",
        "# combination of parameters that gave the best RMSE score\n",
        "print('Best SVD parameters:')\n",
        "print(gs.best_params['rmse'])"
      ],
      "execution_count": 50,
      "outputs": [
        {
          "output_type": "stream",
          "text": [
            "0.9360084446620462\n",
            "0.7377343697072805\n",
            "0.8761250438932393\n",
            "{'biased': 'false'}\n"
          ],
          "name": "stdout"
        }
      ]
    },
    {
      "cell_type": "code",
      "metadata": {
        "id": "XGh4HsoArL4k"
      },
      "source": [
        ""
      ],
      "execution_count": null,
      "outputs": []
    }
  ]
}