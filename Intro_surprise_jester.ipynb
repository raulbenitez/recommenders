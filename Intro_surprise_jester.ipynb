{
  "nbformat": 4,
  "nbformat_minor": 0,
  "metadata": {
    "colab": {
      "name": "Intro_surprise_jester.ipynb",
      "provenance": [],
      "authorship_tag": "ABX9TyMPZEkQX8yppl/J2/9oGDug",
      "include_colab_link": true
    },
    "kernelspec": {
      "name": "python3",
      "display_name": "Python 3"
    }
  },
  "cells": [
    {
      "cell_type": "markdown",
      "metadata": {
        "id": "view-in-github",
        "colab_type": "text"
      },
      "source": [
        "<a href=\"https://colab.research.google.com/github/raulbenitez/recommenders/blob/main/Intro_surprise_jester.ipynb\" target=\"_parent\"><img src=\"https://colab.research.google.com/assets/colab-badge.svg\" alt=\"Open In Colab\"/></a>"
      ]
    },
    {
      "cell_type": "markdown",
      "metadata": {
        "id": "Hp6mGoOqa8IB"
      },
      "source": [
        "## Install surpise libraries:"
      ]
    },
    {
      "cell_type": "code",
      "metadata": {
        "colab": {
          "base_uri": "https://localhost:8080/"
        },
        "id": "chYt2RSOD72a",
        "outputId": "d170d104-8868-44d0-c449-3ba4a74306a4"
      },
      "source": [
        "!pip install scikit-surprise"
      ],
      "execution_count": 3,
      "outputs": [
        {
          "output_type": "stream",
          "text": [
            "Collecting scikit-surprise\n",
            "\u001b[?25l  Downloading https://files.pythonhosted.org/packages/97/37/5d334adaf5ddd65da99fc65f6507e0e4599d092ba048f4302fe8775619e8/scikit-surprise-1.1.1.tar.gz (11.8MB)\n",
            "\u001b[K     |████████████████████████████████| 11.8MB 10.2MB/s \n",
            "\u001b[?25hRequirement already satisfied: joblib>=0.11 in /usr/local/lib/python3.6/dist-packages (from scikit-surprise) (1.0.0)\n",
            "Requirement already satisfied: numpy>=1.11.2 in /usr/local/lib/python3.6/dist-packages (from scikit-surprise) (1.19.5)\n",
            "Requirement already satisfied: scipy>=1.0.0 in /usr/local/lib/python3.6/dist-packages (from scikit-surprise) (1.4.1)\n",
            "Requirement already satisfied: six>=1.10.0 in /usr/local/lib/python3.6/dist-packages (from scikit-surprise) (1.15.0)\n",
            "Building wheels for collected packages: scikit-surprise\n",
            "  Building wheel for scikit-surprise (setup.py) ... \u001b[?25l\u001b[?25hdone\n",
            "  Created wheel for scikit-surprise: filename=scikit_surprise-1.1.1-cp36-cp36m-linux_x86_64.whl size=1618266 sha256=3441490cdf9982000bc579f18503551c7f6f92f661990818d362c01c7d0f3979\n",
            "  Stored in directory: /root/.cache/pip/wheels/78/9c/3d/41b419c9d2aff5b6e2b4c0fc8d25c538202834058f9ed110d0\n",
            "Successfully built scikit-surprise\n",
            "Installing collected packages: scikit-surprise\n",
            "Successfully installed scikit-surprise-1.1.1\n"
          ],
          "name": "stdout"
        }
      ]
    },
    {
      "cell_type": "markdown",
      "metadata": {
        "id": "DHrQ2_LW8zS3"
      },
      "source": [
        "# Exercise 1: Data manipulation using surprise and Pandas"
      ]
    },
    {
      "cell_type": "markdown",
      "metadata": {
        "id": "Wqu7JWVgbBPI"
      },
      "source": [
        "## Load jester database\n",
        "\n",
        "And some exploration of the data\n",
        "\n",
        "https://www.kaggle.com/raidevesh05/movie-ratings-dataset?select=movie_ratings.csv"
      ]
    },
    {
      "cell_type": "code",
      "metadata": {
        "colab": {
          "base_uri": "https://localhost:8080/"
        },
        "id": "VH13EiCywxIt",
        "outputId": "899464b3-5640-487d-f6a7-e45a51b28123"
      },
      "source": [
        "from surprise import SVD\n",
        "from surprise import Dataset\n",
        "from surprise.model_selection import cross_validate\n",
        "\n",
        "data = Dataset.load_builtin('jester')"
      ],
      "execution_count": 4,
      "outputs": [
        {
          "output_type": "stream",
          "text": [
            "Dataset jester could not be found. Do you want to download it? [Y/n] Y\n",
            "Trying to download dataset from http://eigentaste.berkeley.edu/dataset/archive/jester_dataset_2.zip...\n",
            "Done! Dataset jester has been saved to /root/.surprise_data/jester\n"
          ],
          "name": "stdout"
        }
      ]
    },
    {
      "cell_type": "markdown",
      "metadata": {
        "id": "sUXtW3I97RwZ"
      },
      "source": [
        "Access the ratings from the raw data:"
      ]
    },
    {
      "cell_type": "code",
      "metadata": {
        "colab": {
          "base_uri": "https://localhost:8080/"
        },
        "id": "X-6y0_5KWcem",
        "outputId": "7293ae8a-0e3d-43e9-f5d6-71b621356c4b"
      },
      "source": [
        "raw_data = data.raw_ratings\n",
        "print(\"Each entry has the columns: user_id, item_id,  rating and timestamp\")\n",
        "print(raw_data[0])\n",
        "print(raw_data[1])\n",
        "print(raw_data[2])\n",
        "print(\"\\n\")"
      ],
      "execution_count": 5,
      "outputs": [
        {
          "output_type": "stream",
          "text": [
            "Each entry has the columns: user_id, item_id,  rating and timestamp\n",
            "('1', '5', 0.219, None)\n",
            "('1', '7', -9.281, None)\n",
            "('1', '8', -9.281, None)\n",
            "\n",
            "\n"
          ],
          "name": "stdout"
        }
      ]
    },
    {
      "cell_type": "markdown",
      "metadata": {
        "id": "HcpKK4obFjuj"
      },
      "source": [
        "Mean rating of a user and mean rating of an item"
      ]
    },
    {
      "cell_type": "markdown",
      "metadata": {
        "id": "FAEs7rvhbgsv"
      },
      "source": [
        "Load as a pandas dataframe for convenience to manipulate data:"
      ]
    },
    {
      "cell_type": "code",
      "metadata": {
        "colab": {
          "base_uri": "https://localhost:8080/",
          "height": 348
        },
        "id": "22xd2-iGDzES",
        "outputId": "334f532b-4f2b-4875-d587-6dc7193ae449"
      },
      "source": [
        "import pandas as pd\n",
        "df = pd.DataFrame(data.__dict__['raw_ratings'], columns=['user_id', 'item_id', 'rating', 'timestamp'])\n",
        "df.head(10)"
      ],
      "execution_count": 6,
      "outputs": [
        {
          "output_type": "execute_result",
          "data": {
            "text/html": [
              "<div>\n",
              "<style scoped>\n",
              "    .dataframe tbody tr th:only-of-type {\n",
              "        vertical-align: middle;\n",
              "    }\n",
              "\n",
              "    .dataframe tbody tr th {\n",
              "        vertical-align: top;\n",
              "    }\n",
              "\n",
              "    .dataframe thead th {\n",
              "        text-align: right;\n",
              "    }\n",
              "</style>\n",
              "<table border=\"1\" class=\"dataframe\">\n",
              "  <thead>\n",
              "    <tr style=\"text-align: right;\">\n",
              "      <th></th>\n",
              "      <th>user_id</th>\n",
              "      <th>item_id</th>\n",
              "      <th>rating</th>\n",
              "      <th>timestamp</th>\n",
              "    </tr>\n",
              "  </thead>\n",
              "  <tbody>\n",
              "    <tr>\n",
              "      <th>0</th>\n",
              "      <td>1</td>\n",
              "      <td>5</td>\n",
              "      <td>0.219</td>\n",
              "      <td>None</td>\n",
              "    </tr>\n",
              "    <tr>\n",
              "      <th>1</th>\n",
              "      <td>1</td>\n",
              "      <td>7</td>\n",
              "      <td>-9.281</td>\n",
              "      <td>None</td>\n",
              "    </tr>\n",
              "    <tr>\n",
              "      <th>2</th>\n",
              "      <td>1</td>\n",
              "      <td>8</td>\n",
              "      <td>-9.281</td>\n",
              "      <td>None</td>\n",
              "    </tr>\n",
              "    <tr>\n",
              "      <th>3</th>\n",
              "      <td>1</td>\n",
              "      <td>13</td>\n",
              "      <td>-6.781</td>\n",
              "      <td>None</td>\n",
              "    </tr>\n",
              "    <tr>\n",
              "      <th>4</th>\n",
              "      <td>1</td>\n",
              "      <td>15</td>\n",
              "      <td>0.875</td>\n",
              "      <td>None</td>\n",
              "    </tr>\n",
              "    <tr>\n",
              "      <th>5</th>\n",
              "      <td>1</td>\n",
              "      <td>16</td>\n",
              "      <td>-9.656</td>\n",
              "      <td>None</td>\n",
              "    </tr>\n",
              "    <tr>\n",
              "      <th>6</th>\n",
              "      <td>1</td>\n",
              "      <td>17</td>\n",
              "      <td>-9.031</td>\n",
              "      <td>None</td>\n",
              "    </tr>\n",
              "    <tr>\n",
              "      <th>7</th>\n",
              "      <td>1</td>\n",
              "      <td>18</td>\n",
              "      <td>-7.469</td>\n",
              "      <td>None</td>\n",
              "    </tr>\n",
              "    <tr>\n",
              "      <th>8</th>\n",
              "      <td>1</td>\n",
              "      <td>19</td>\n",
              "      <td>-8.719</td>\n",
              "      <td>None</td>\n",
              "    </tr>\n",
              "    <tr>\n",
              "      <th>9</th>\n",
              "      <td>1</td>\n",
              "      <td>20</td>\n",
              "      <td>-9.156</td>\n",
              "      <td>None</td>\n",
              "    </tr>\n",
              "  </tbody>\n",
              "</table>\n",
              "</div>"
            ],
            "text/plain": [
              "  user_id item_id  rating timestamp\n",
              "0       1       5   0.219      None\n",
              "1       1       7  -9.281      None\n",
              "2       1       8  -9.281      None\n",
              "3       1      13  -6.781      None\n",
              "4       1      15   0.875      None\n",
              "5       1      16  -9.656      None\n",
              "6       1      17  -9.031      None\n",
              "7       1      18  -7.469      None\n",
              "8       1      19  -8.719      None\n",
              "9       1      20  -9.156      None"
            ]
          },
          "metadata": {
            "tags": []
          },
          "execution_count": 6
        }
      ]
    },
    {
      "cell_type": "markdown",
      "metadata": {
        "id": "awECRWC1eKW_"
      },
      "source": [
        "*Dimension* of the dataframe"
      ]
    },
    {
      "cell_type": "code",
      "metadata": {
        "colab": {
          "base_uri": "https://localhost:8080/"
        },
        "id": "5RDSLgfxUTvR",
        "outputId": "909ff085-fa7b-428b-960d-58f2293f1792"
      },
      "source": [
        "df.shape"
      ],
      "execution_count": 7,
      "outputs": [
        {
          "output_type": "execute_result",
          "data": {
            "text/plain": [
              "(1761439, 4)"
            ]
          },
          "metadata": {
            "tags": []
          },
          "execution_count": 7
        }
      ]
    },
    {
      "cell_type": "markdown",
      "metadata": {
        "id": "YX-Qd1wLUVIe"
      },
      "source": [
        "What is the rating of the user with user_id = 1 of the joke with item_id = 5?"
      ]
    },
    {
      "cell_type": "code",
      "metadata": {
        "colab": {
          "base_uri": "https://localhost:8080/",
          "height": 78
        },
        "id": "3Ye85gtLNQpE",
        "outputId": "e41d5944-7afe-4590-8274-3c4b9e4e752f"
      },
      "source": [
        "df.loc[(df[\"user_id\"]=='1') & (df[\"item_id\"]=='5')]"
      ],
      "execution_count": 33,
      "outputs": [
        {
          "output_type": "execute_result",
          "data": {
            "text/html": [
              "<div>\n",
              "<style scoped>\n",
              "    .dataframe tbody tr th:only-of-type {\n",
              "        vertical-align: middle;\n",
              "    }\n",
              "\n",
              "    .dataframe tbody tr th {\n",
              "        vertical-align: top;\n",
              "    }\n",
              "\n",
              "    .dataframe thead th {\n",
              "        text-align: right;\n",
              "    }\n",
              "</style>\n",
              "<table border=\"1\" class=\"dataframe\">\n",
              "  <thead>\n",
              "    <tr style=\"text-align: right;\">\n",
              "      <th></th>\n",
              "      <th>user_id</th>\n",
              "      <th>item_id</th>\n",
              "      <th>rating</th>\n",
              "      <th>timestamp</th>\n",
              "    </tr>\n",
              "  </thead>\n",
              "  <tbody>\n",
              "    <tr>\n",
              "      <th>0</th>\n",
              "      <td>1</td>\n",
              "      <td>5</td>\n",
              "      <td>0.219</td>\n",
              "      <td>None</td>\n",
              "    </tr>\n",
              "  </tbody>\n",
              "</table>\n",
              "</div>"
            ],
            "text/plain": [
              "  user_id item_id  rating timestamp\n",
              "0       1       5   0.219      None"
            ]
          },
          "metadata": {
            "tags": []
          },
          "execution_count": 33
        }
      ]
    },
    {
      "cell_type": "code",
      "metadata": {
        "colab": {
          "base_uri": "https://localhost:8080/"
        },
        "id": "QLrPB1IzDFU-",
        "outputId": "361872a2-6445-4a96-9caa-6c0059ea0665"
      },
      "source": [
        "print(\"Number of users in the database = \" + str(df[\"user_id\"].nunique()))\n",
        "print(\"Number of items in the database = \" + str(df[\"item_id\"].nunique()))"
      ],
      "execution_count": 34,
      "outputs": [
        {
          "output_type": "stream",
          "text": [
            "Number of users in the database = 59132\n",
            "Number of items in the database = 140\n"
          ],
          "name": "stdout"
        }
      ]
    },
    {
      "cell_type": "markdown",
      "metadata": {
        "id": "qJxfV9P1UnOI"
      },
      "source": [
        "Number of jokes rated by user with user_id = 10:"
      ]
    },
    {
      "cell_type": "code",
      "metadata": {
        "colab": {
          "base_uri": "https://localhost:8080/"
        },
        "id": "0QCL0xUXUsMr",
        "outputId": "ba229872-956c-44a0-a7c8-d499a6d62a98"
      },
      "source": [
        "df.loc[(df[\"user_id\"]=='10')].shape[0]"
      ],
      "execution_count": 35,
      "outputs": [
        {
          "output_type": "execute_result",
          "data": {
            "text/plain": [
              "104"
            ]
          },
          "metadata": {
            "tags": []
          },
          "execution_count": 35
        }
      ]
    },
    {
      "cell_type": "markdown",
      "metadata": {
        "id": "sOcNa1Ff7aT-"
      },
      "source": [
        "Check the average rating score"
      ]
    },
    {
      "cell_type": "code",
      "metadata": {
        "colab": {
          "base_uri": "https://localhost:8080/"
        },
        "id": "5cHm6bjA7dBV",
        "outputId": "09d44302-e442-4fa3-bc68-9bfafefb041a"
      },
      "source": [
        "print(\"Mean value of the rating column: \" + str(df[\"rating\"].mean())) "
      ],
      "execution_count": 36,
      "outputs": [
        {
          "output_type": "stream",
          "text": [
            "Mean value of the rating column: 1.6186024017864769\n"
          ],
          "name": "stdout"
        }
      ]
    },
    {
      "cell_type": "markdown",
      "metadata": {
        "id": "FHdpaHYJ8WDx"
      },
      "source": [
        "Check which is the joke with larger average rating from the users:"
      ]
    },
    {
      "cell_type": "code",
      "metadata": {
        "colab": {
          "base_uri": "https://localhost:8080/",
          "height": 437
        },
        "id": "zz4FRSzB8asq",
        "outputId": "61dd2059-5f97-41ea-d4b8-4b8de1687447"
      },
      "source": [
        "dfmean = df.groupby(['item_id']).mean()\n",
        "dfmean.sort_values(by=['rating'],ascending=False)"
      ],
      "execution_count": 37,
      "outputs": [
        {
          "output_type": "execute_result",
          "data": {
            "text/html": [
              "<div>\n",
              "<style scoped>\n",
              "    .dataframe tbody tr th:only-of-type {\n",
              "        vertical-align: middle;\n",
              "    }\n",
              "\n",
              "    .dataframe tbody tr th {\n",
              "        vertical-align: top;\n",
              "    }\n",
              "\n",
              "    .dataframe thead th {\n",
              "        text-align: right;\n",
              "    }\n",
              "</style>\n",
              "<table border=\"1\" class=\"dataframe\">\n",
              "  <thead>\n",
              "    <tr style=\"text-align: right;\">\n",
              "      <th></th>\n",
              "      <th>rating</th>\n",
              "    </tr>\n",
              "    <tr>\n",
              "      <th>item_id</th>\n",
              "      <th></th>\n",
              "    </tr>\n",
              "  </thead>\n",
              "  <tbody>\n",
              "    <tr>\n",
              "      <th>53</th>\n",
              "      <td>3.714381</td>\n",
              "    </tr>\n",
              "    <tr>\n",
              "      <th>105</th>\n",
              "      <td>3.711223</td>\n",
              "    </tr>\n",
              "    <tr>\n",
              "      <th>89</th>\n",
              "      <td>3.606506</td>\n",
              "    </tr>\n",
              "    <tr>\n",
              "      <th>129</th>\n",
              "      <td>3.583496</td>\n",
              "    </tr>\n",
              "    <tr>\n",
              "      <th>35</th>\n",
              "      <td>3.560305</td>\n",
              "    </tr>\n",
              "    <tr>\n",
              "      <th>...</th>\n",
              "      <td>...</td>\n",
              "    </tr>\n",
              "    <tr>\n",
              "      <th>16</th>\n",
              "      <td>-1.587044</td>\n",
              "    </tr>\n",
              "    <tr>\n",
              "      <th>5</th>\n",
              "      <td>-1.756331</td>\n",
              "    </tr>\n",
              "    <tr>\n",
              "      <th>7</th>\n",
              "      <td>-1.809230</td>\n",
              "    </tr>\n",
              "    <tr>\n",
              "      <th>124</th>\n",
              "      <td>-2.163482</td>\n",
              "    </tr>\n",
              "    <tr>\n",
              "      <th>141</th>\n",
              "      <td>-2.749574</td>\n",
              "    </tr>\n",
              "  </tbody>\n",
              "</table>\n",
              "<p>140 rows × 1 columns</p>\n",
              "</div>"
            ],
            "text/plain": [
              "           rating\n",
              "item_id          \n",
              "53       3.714381\n",
              "105      3.711223\n",
              "89       3.606506\n",
              "129      3.583496\n",
              "35       3.560305\n",
              "...           ...\n",
              "16      -1.587044\n",
              "5       -1.756331\n",
              "7       -1.809230\n",
              "124     -2.163482\n",
              "141     -2.749574\n",
              "\n",
              "[140 rows x 1 columns]"
            ]
          },
          "metadata": {
            "tags": []
          },
          "execution_count": 37
        }
      ]
    },
    {
      "cell_type": "markdown",
      "metadata": {
        "id": "K4Aho3Lj1n29"
      },
      "source": [
        "Remove items with less than 200 ratings and users that have rated less than 130 times:\n"
      ]
    },
    {
      "cell_type": "code",
      "metadata": {
        "colab": {
          "base_uri": "https://localhost:8080/"
        },
        "id": "sZgWMzLU1wl9",
        "outputId": "7b36aaad-bc85-4661-efca-d8c62c148cec"
      },
      "source": [
        "min_item_ratings = 200\n",
        "filter_items = df['item_id'].value_counts() > min_item_ratings\n",
        "filter_items = filter_items[filter_items].index.tolist()\n",
        "\n",
        "min_user_ratings = 130\n",
        "filter_users = df['user_id'].value_counts() > min_user_ratings\n",
        "filter_users = filter_users[filter_users].index.tolist()\n",
        "\n",
        "df_small = df[(df['item_id'].isin(filter_items)) & (df['user_id'].isin(filter_users))]\n",
        "print('The original data frame shape:\\t{}'.format(df.shape))\n",
        "print('The new data frame shape:\\t{}'.format(df_small.shape))"
      ],
      "execution_count": 38,
      "outputs": [
        {
          "output_type": "stream",
          "text": [
            "The original data frame shape:\t(1761439, 4)\n",
            "The new data frame shape:\t(1325, 4)\n"
          ],
          "name": "stdout"
        }
      ]
    },
    {
      "cell_type": "markdown",
      "metadata": {
        "id": "wfRlILwzbP8r"
      },
      "source": [
        "Check how many users and and items are there in the dataset:"
      ]
    },
    {
      "cell_type": "code",
      "metadata": {
        "colab": {
          "base_uri": "https://localhost:8080/"
        },
        "id": "gQEV-g5NZeq0",
        "outputId": "331f9be0-37ff-460d-f1b7-a20f1930af67"
      },
      "source": [
        "print(\"Number of users in the reduced database = \" + str(df_small[\"user_id\"].nunique()))\n",
        "print(\"Number of items in the reduced database = \" + str(df_small[\"item_id\"].nunique()))"
      ],
      "execution_count": 39,
      "outputs": [
        {
          "output_type": "stream",
          "text": [
            "Number of users in the reduced database = 10\n",
            "Number of items in the reduced database = 133\n"
          ],
          "name": "stdout"
        }
      ]
    },
    {
      "cell_type": "code",
      "metadata": {
        "colab": {
          "base_uri": "https://localhost:8080/",
          "height": 198
        },
        "id": "7d3nNPDu20cA",
        "outputId": "794f7fa8-b78b-4783-b13b-8fc2543f28c9"
      },
      "source": [
        "df_small.head()"
      ],
      "execution_count": 40,
      "outputs": [
        {
          "output_type": "execute_result",
          "data": {
            "text/html": [
              "<div>\n",
              "<style scoped>\n",
              "    .dataframe tbody tr th:only-of-type {\n",
              "        vertical-align: middle;\n",
              "    }\n",
              "\n",
              "    .dataframe tbody tr th {\n",
              "        vertical-align: top;\n",
              "    }\n",
              "\n",
              "    .dataframe thead th {\n",
              "        text-align: right;\n",
              "    }\n",
              "</style>\n",
              "<table border=\"1\" class=\"dataframe\">\n",
              "  <thead>\n",
              "    <tr style=\"text-align: right;\">\n",
              "      <th></th>\n",
              "      <th>user_id</th>\n",
              "      <th>item_id</th>\n",
              "      <th>rating</th>\n",
              "      <th>timestamp</th>\n",
              "    </tr>\n",
              "  </thead>\n",
              "  <tbody>\n",
              "    <tr>\n",
              "      <th>1568</th>\n",
              "      <td>46</td>\n",
              "      <td>5</td>\n",
              "      <td>6.469</td>\n",
              "      <td>None</td>\n",
              "    </tr>\n",
              "    <tr>\n",
              "      <th>1569</th>\n",
              "      <td>46</td>\n",
              "      <td>7</td>\n",
              "      <td>-6.781</td>\n",
              "      <td>None</td>\n",
              "    </tr>\n",
              "    <tr>\n",
              "      <th>1570</th>\n",
              "      <td>46</td>\n",
              "      <td>8</td>\n",
              "      <td>8.625</td>\n",
              "      <td>None</td>\n",
              "    </tr>\n",
              "    <tr>\n",
              "      <th>1571</th>\n",
              "      <td>46</td>\n",
              "      <td>13</td>\n",
              "      <td>-8.062</td>\n",
              "      <td>None</td>\n",
              "    </tr>\n",
              "    <tr>\n",
              "      <th>1572</th>\n",
              "      <td>46</td>\n",
              "      <td>15</td>\n",
              "      <td>-4.156</td>\n",
              "      <td>None</td>\n",
              "    </tr>\n",
              "  </tbody>\n",
              "</table>\n",
              "</div>"
            ],
            "text/plain": [
              "     user_id item_id  rating timestamp\n",
              "1568      46       5   6.469      None\n",
              "1569      46       7  -6.781      None\n",
              "1570      46       8   8.625      None\n",
              "1571      46      13  -8.062      None\n",
              "1572      46      15  -4.156      None"
            ]
          },
          "metadata": {
            "tags": []
          },
          "execution_count": 40
        }
      ]
    },
    {
      "cell_type": "markdown",
      "metadata": {
        "id": "9IdzsL8ydlwm"
      },
      "source": [
        "Represent the distribution of number of users with a certain number of ratings:"
      ]
    },
    {
      "cell_type": "code",
      "metadata": {
        "colab": {
          "base_uri": "https://localhost:8080/",
          "height": 592
        },
        "id": "EUVqegRRd2Se",
        "outputId": "f363522b-c6a5-494e-b70f-4832cda3f380"
      },
      "source": [
        "import matplotlib.pyplot as plt\n",
        "\n",
        "v = df['user_id'].value_counts()\n",
        "\n",
        "fig = plt.figure(figsize=(14,10))\n",
        "plt.hist(v,20)\n",
        "plt.show()"
      ],
      "execution_count": 41,
      "outputs": [
        {
          "output_type": "display_data",
          "data": {
            "image/png": "[encoded data removed]",
            "text/plain": [
              "<Figure size 1008x720 with 1 Axes>"
            ]
          },
          "metadata": {
            "tags": [],
            "needs_background": "light"
          }
        }
      ]
    },
    {
      "cell_type": "markdown",
      "metadata": {
        "id": "rOq0biXmged6"
      },
      "source": [
        "Identify a joke with a rating of 10"
      ]
    },
    {
      "cell_type": "code",
      "metadata": {
        "colab": {
          "base_uri": "https://localhost:8080/",
          "height": 198
        },
        "id": "fR6PMvWmgieS",
        "outputId": "740dce7a-1d7f-494a-b2ea-7617873cb5c8"
      },
      "source": [
        "df_best = df.loc[df[\"rating\"]==10]\n",
        "df_best.head()"
      ],
      "execution_count": 42,
      "outputs": [
        {
          "output_type": "execute_result",
          "data": {
            "text/html": [
              "<div>\n",
              "<style scoped>\n",
              "    .dataframe tbody tr th:only-of-type {\n",
              "        vertical-align: middle;\n",
              "    }\n",
              "\n",
              "    .dataframe tbody tr th {\n",
              "        vertical-align: top;\n",
              "    }\n",
              "\n",
              "    .dataframe thead th {\n",
              "        text-align: right;\n",
              "    }\n",
              "</style>\n",
              "<table border=\"1\" class=\"dataframe\">\n",
              "  <thead>\n",
              "    <tr style=\"text-align: right;\">\n",
              "      <th></th>\n",
              "      <th>user_id</th>\n",
              "      <th>item_id</th>\n",
              "      <th>rating</th>\n",
              "      <th>timestamp</th>\n",
              "    </tr>\n",
              "  </thead>\n",
              "  <tbody>\n",
              "    <tr>\n",
              "      <th>755</th>\n",
              "      <td>17</td>\n",
              "      <td>17</td>\n",
              "      <td>10.0</td>\n",
              "      <td>None</td>\n",
              "    </tr>\n",
              "    <tr>\n",
              "      <th>758</th>\n",
              "      <td>17</td>\n",
              "      <td>20</td>\n",
              "      <td>10.0</td>\n",
              "      <td>None</td>\n",
              "    </tr>\n",
              "    <tr>\n",
              "      <th>766</th>\n",
              "      <td>17</td>\n",
              "      <td>35</td>\n",
              "      <td>10.0</td>\n",
              "      <td>None</td>\n",
              "    </tr>\n",
              "    <tr>\n",
              "      <th>771</th>\n",
              "      <td>17</td>\n",
              "      <td>49</td>\n",
              "      <td>10.0</td>\n",
              "      <td>None</td>\n",
              "    </tr>\n",
              "    <tr>\n",
              "      <th>2571</th>\n",
              "      <td>65</td>\n",
              "      <td>8</td>\n",
              "      <td>10.0</td>\n",
              "      <td>None</td>\n",
              "    </tr>\n",
              "  </tbody>\n",
              "</table>\n",
              "</div>"
            ],
            "text/plain": [
              "     user_id item_id  rating timestamp\n",
              "755       17      17    10.0      None\n",
              "758       17      20    10.0      None\n",
              "766       17      35    10.0      None\n",
              "771       17      49    10.0      None\n",
              "2571      65       8    10.0      None"
            ]
          },
          "metadata": {
            "tags": []
          },
          "execution_count": 42
        }
      ]
    },
    {
      "cell_type": "code",
      "metadata": {
        "colab": {
          "base_uri": "https://localhost:8080/",
          "height": 198
        },
        "id": "ZeR8b6SMiCDz",
        "outputId": "9dab205c-9770-47d1-cbf7-d082a9caf070"
      },
      "source": [
        "df_worst = df.loc[df[\"rating\"]==-10]\n",
        "df_best.head()"
      ],
      "execution_count": 43,
      "outputs": [
        {
          "output_type": "execute_result",
          "data": {
            "text/html": [
              "<div>\n",
              "<style scoped>\n",
              "    .dataframe tbody tr th:only-of-type {\n",
              "        vertical-align: middle;\n",
              "    }\n",
              "\n",
              "    .dataframe tbody tr th {\n",
              "        vertical-align: top;\n",
              "    }\n",
              "\n",
              "    .dataframe thead th {\n",
              "        text-align: right;\n",
              "    }\n",
              "</style>\n",
              "<table border=\"1\" class=\"dataframe\">\n",
              "  <thead>\n",
              "    <tr style=\"text-align: right;\">\n",
              "      <th></th>\n",
              "      <th>user_id</th>\n",
              "      <th>item_id</th>\n",
              "      <th>rating</th>\n",
              "      <th>timestamp</th>\n",
              "    </tr>\n",
              "  </thead>\n",
              "  <tbody>\n",
              "    <tr>\n",
              "      <th>755</th>\n",
              "      <td>17</td>\n",
              "      <td>17</td>\n",
              "      <td>10.0</td>\n",
              "      <td>None</td>\n",
              "    </tr>\n",
              "    <tr>\n",
              "      <th>758</th>\n",
              "      <td>17</td>\n",
              "      <td>20</td>\n",
              "      <td>10.0</td>\n",
              "      <td>None</td>\n",
              "    </tr>\n",
              "    <tr>\n",
              "      <th>766</th>\n",
              "      <td>17</td>\n",
              "      <td>35</td>\n",
              "      <td>10.0</td>\n",
              "      <td>None</td>\n",
              "    </tr>\n",
              "    <tr>\n",
              "      <th>771</th>\n",
              "      <td>17</td>\n",
              "      <td>49</td>\n",
              "      <td>10.0</td>\n",
              "      <td>None</td>\n",
              "    </tr>\n",
              "    <tr>\n",
              "      <th>2571</th>\n",
              "      <td>65</td>\n",
              "      <td>8</td>\n",
              "      <td>10.0</td>\n",
              "      <td>None</td>\n",
              "    </tr>\n",
              "  </tbody>\n",
              "</table>\n",
              "</div>"
            ],
            "text/plain": [
              "     user_id item_id  rating timestamp\n",
              "755       17      17    10.0      None\n",
              "758       17      20    10.0      None\n",
              "766       17      35    10.0      None\n",
              "771       17      49    10.0      None\n",
              "2571      65       8    10.0      None"
            ]
          },
          "metadata": {
            "tags": []
          },
          "execution_count": 43
        }
      ]
    },
    {
      "cell_type": "code",
      "metadata": {
        "colab": {
          "base_uri": "https://localhost:8080/"
        },
        "id": "IleHxi-hhZOj",
        "outputId": "03893748-c754-4a69-a5aa-b1c5687ab1f7"
      },
      "source": [
        "df_best['item_id'].unique().shape[0]"
      ],
      "execution_count": 44,
      "outputs": [
        {
          "output_type": "execute_result",
          "data": {
            "text/plain": [
              "133"
            ]
          },
          "metadata": {
            "tags": []
          },
          "execution_count": 44
        }
      ]
    },
    {
      "cell_type": "code",
      "metadata": {
        "colab": {
          "base_uri": "https://localhost:8080/"
        },
        "id": "ZZX0F_27h_AZ",
        "outputId": "856ba8a3-3dc9-4915-ff8e-2032724b5cfb"
      },
      "source": [
        "df['item_id'].unique().shape[0]"
      ],
      "execution_count": 45,
      "outputs": [
        {
          "output_type": "execute_result",
          "data": {
            "text/plain": [
              "140"
            ]
          },
          "metadata": {
            "tags": []
          },
          "execution_count": 45
        }
      ]
    },
    {
      "cell_type": "markdown",
      "metadata": {
        "id": "JihO3wGq3cAx"
      },
      "source": [
        "## Load data again from the reduced dataframe:"
      ]
    },
    {
      "cell_type": "code",
      "metadata": {
        "id": "LGfRkoZK3fdf"
      },
      "source": [
        "from surprise import Reader \n",
        "reader = Reader(rating_scale=(-10, 10))\n",
        "data_small = Dataset.load_from_df(df_small[['user_id', 'item_id', 'rating']], reader)"
      ],
      "execution_count": 46,
      "outputs": []
    },
    {
      "cell_type": "markdown",
      "metadata": {
        "id": "fhP69M4tbn4s"
      },
      "source": [
        "# Exercise 2: Different ways to fit a recommender systems:\n",
        "\n",
        "## a) Training with the whole reduced dataset\n",
        "\n",
        "First, create a trainable set using the build_full_trainset() method from surpise libraries:\n",
        "\n",
        "https://surprise.readthedocs.io/en/stable/dataset.html#surprise.dataset.DatasetAutoFolds.build_full_trainset\n",
        "\n"
      ]
    },
    {
      "cell_type": "code",
      "metadata": {
        "id": "RsKG-WXCW4vN"
      },
      "source": [
        "trainset = data_small.build_full_trainset()"
      ],
      "execution_count": 47,
      "outputs": []
    },
    {
      "cell_type": "markdown",
      "metadata": {
        "id": "xusfnM1McS8I"
      },
      "source": [
        "Now fit a SVD model-based recommender algorithm:\n",
        "\n"
      ]
    },
    {
      "cell_type": "code",
      "metadata": {
        "colab": {
          "base_uri": "https://localhost:8080/"
        },
        "id": "CBpdZqzycMWC",
        "outputId": "fc04a57b-cef1-497e-cb5c-4aa3a6cca5ed"
      },
      "source": [
        "from surprise import SVD\n",
        "\n",
        "rec_svd = SVD()\n",
        "rec_svd.fit(trainset)"
      ],
      "execution_count": 48,
      "outputs": [
        {
          "output_type": "execute_result",
          "data": {
            "text/plain": [
              "<surprise.prediction_algorithms.matrix_factorization.SVD at 0x7fb982dd3c50>"
            ]
          },
          "metadata": {
            "tags": []
          },
          "execution_count": 48
        }
      ]
    },
    {
      "cell_type": "markdown",
      "metadata": {
        "id": "Ux5UVg-WcqlO"
      },
      "source": [
        "Predict the ranking of a certain item item_id from a certain user user_id"
      ]
    },
    {
      "cell_type": "code",
      "metadata": {
        "colab": {
          "base_uri": "https://localhost:8080/"
        },
        "id": "8iT-r9Rt-6s8",
        "outputId": "ba00b600-f613-4667-b1b3-8b82464217ff"
      },
      "source": [
        "raw_data = data_small.raw_ratings\n",
        "print(raw_data[10])"
      ],
      "execution_count": 51,
      "outputs": [
        {
          "output_type": "stream",
          "text": [
            "('46', '44', 6.75, None)\n"
          ],
          "name": "stdout"
        }
      ]
    },
    {
      "cell_type": "code",
      "metadata": {
        "colab": {
          "base_uri": "https://localhost:8080/"
        },
        "id": "1TUKc3xpcZ2t",
        "outputId": "34a080e2-95ac-47d0-b6d0-8b30e581ff95"
      },
      "source": [
        "user_id = str(46)  # raw user id (as in the ratings file). They are **strings**!\n",
        "item_id = str(44)  # raw item id (as in the ratings file). They are **strings**!\n",
        "true_ranking = 6.75\n",
        "\n",
        "pred_svd = rec_svd.predict(user_id, item_id,r_ui=true_ranking,verbose=True)\n"
      ],
      "execution_count": 52,
      "outputs": [
        {
          "output_type": "stream",
          "text": [
            "user: 46         item: 44         r_ui = 6.75   est = 6.66   {'was_impossible': False}\n"
          ],
          "name": "stdout"
        }
      ]
    },
    {
      "cell_type": "markdown",
      "metadata": {
        "id": "QOOCYMT8lgkx"
      },
      "source": [
        "Evaluate performance using training set:"
      ]
    },
    {
      "cell_type": "code",
      "metadata": {
        "colab": {
          "base_uri": "https://localhost:8080/"
        },
        "id": "tODPjyrulszt",
        "outputId": "dc87317d-5255-42db-d374-f52a2a5189f5"
      },
      "source": [
        "from surprise import accuracy\n",
        "\n",
        "testset = trainset.build_testset()\n",
        "train_pred = rec_svd.test(testset)\n",
        "accuracy.rmse(train_pred)\n",
        "accuracy.mae(train_pred)\n",
        "accuracy.mse(train_pred)"
      ],
      "execution_count": 55,
      "outputs": [
        {
          "output_type": "stream",
          "text": [
            "RMSE: 0.3484\n",
            "MAE:  0.2473\n",
            "MSE: 0.1214\n"
          ],
          "name": "stdout"
        },
        {
          "output_type": "execute_result",
          "data": {
            "text/plain": [
              "0.12140956423800202"
            ]
          },
          "metadata": {
            "tags": []
          },
          "execution_count": 55
        }
      ]
    },
    {
      "cell_type": "markdown",
      "metadata": {
        "id": "wzGfLHiHndVk"
      },
      "source": [
        "If we evaluate the performance with the training set we get a very low prediction error since the observations user to construct the model are also used to test it. This is not the normal procedure in machine learning. Instead, \n",
        "we split the dataset in training and test subsets. Let's see what happens when applying different propostions for the training and test subsets. \n"
      ]
    },
    {
      "cell_type": "markdown",
      "metadata": {
        "id": "V-qeR-brljvQ"
      },
      "source": [
        "## b) Split training and test with different proportions:"
      ]
    },
    {
      "cell_type": "code",
      "metadata": {
        "colab": {
          "base_uri": "https://localhost:8080/"
        },
        "id": "0Ydg9c6jc8fY",
        "outputId": "a8484c81-12fd-4496-bad5-d7eeeacba26b"
      },
      "source": [
        "from surprise.model_selection import train_test_split\n",
        "\n",
        "print('90% training 10% test:')\n",
        "trainset, testset = train_test_split(data_small, test_size=.1)\n",
        "rec_svd.fit(trainset)\n",
        "train_pred = rec_svd.test(testset)\n",
        "accuracy.rmse(train_pred)\n",
        "accuracy.mae(train_pred)\n",
        "accuracy.mse(train_pred)\n",
        "\n",
        "print('75% training 25% test:')\n",
        "trainset, testset = train_test_split(data_small, test_size=.25)\n",
        "rec_svd.fit(trainset)\n",
        "train_pred = rec_svd.test(testset)\n",
        "accuracy.rmse(train_pred)\n",
        "accuracy.mae(train_pred)\n",
        "accuracy.mse(train_pred)\n",
        "\n",
        "print('10% training 90% test:')\n",
        "trainset, testset = train_test_split(data_small, test_size=.9)\n",
        "rec_svd.fit(trainset)\n",
        "train_pred = rec_svd.test(testset)\n",
        "accuracy.rmse(train_pred)\n",
        "accuracy.mae(train_pred)\n",
        "accuracy.mse(train_pred)\n"
      ],
      "execution_count": 56,
      "outputs": [
        {
          "output_type": "stream",
          "text": [
            "90% training 10% test:\n",
            "RMSE: 4.4168\n",
            "MAE:  3.4801\n",
            "MSE: 19.5085\n",
            "75% training 25% test:\n",
            "RMSE: 4.6739\n",
            "MAE:  3.4899\n",
            "MSE: 21.8457\n",
            "10% training 90% test:\n",
            "RMSE: 4.6962\n",
            "MAE:  3.8949\n",
            "MSE: 22.0539\n"
          ],
          "name": "stdout"
        },
        {
          "output_type": "execute_result",
          "data": {
            "text/plain": [
              "22.053909514286172"
            ]
          },
          "metadata": {
            "tags": []
          },
          "execution_count": 56
        }
      ]
    },
    {
      "cell_type": "markdown",
      "metadata": {
        "id": "p6w-2VXcoA5Z"
      },
      "source": [
        "It It is clear that the larger the training subset, the better the performance (i.e lower RMSE, MAE and MSE) when evaluated in the test subset. "
      ]
    },
    {
      "cell_type": "markdown",
      "metadata": {
        "id": "ycBwuHqNoNxp"
      },
      "source": [
        "## c) Cross-validation:\n",
        "\n",
        "Let's evaluate the performance using a 5-fold cross-validation (cv=5) procedure:\n"
      ]
    },
    {
      "cell_type": "code",
      "metadata": {
        "colab": {
          "base_uri": "https://localhost:8080/"
        },
        "id": "8zP9d2yrmW1X",
        "outputId": "b8d03b96-5734-44db-cc3d-285369714a72"
      },
      "source": [
        "cross_validate(rec_svd, data_small, measures=['RMSE', 'MAE','MSE'], cv=5, verbose=True)"
      ],
      "execution_count": 57,
      "outputs": [
        {
          "output_type": "stream",
          "text": [
            "Evaluating RMSE, MAE, MSE of algorithm SVD on 5 split(s).\n",
            "\n",
            "                  Fold 1  Fold 2  Fold 3  Fold 4  Fold 5  Mean    Std     \n",
            "RMSE (testset)    4.2854  4.5110  4.1479  4.6241  4.5571  4.4251  0.1793  \n",
            "MAE (testset)     3.3462  3.5381  3.2611  3.7900  3.5415  3.4954  0.1832  \n",
            "MSE (testset)     18.3646 20.3490 17.2048 21.3823 20.7675 19.6136 1.5725  \n",
            "Fit time          0.08    0.07    0.06    0.06    0.06    0.07    0.00    \n",
            "Test time         0.00    0.00    0.00    0.00    0.00    0.00    0.00    \n"
          ],
          "name": "stdout"
        },
        {
          "output_type": "execute_result",
          "data": {
            "text/plain": [
              "{'fit_time': (0.07626605033874512,\n",
              "  0.06732511520385742,\n",
              "  0.06304740905761719,\n",
              "  0.06295037269592285,\n",
              "  0.06471037864685059),\n",
              " 'test_mae': array([3.34623069, 3.53810753, 3.26110474, 3.79001749, 3.54153608]),\n",
              " 'test_mse': array([18.36458092, 20.34895529, 17.20475139, 21.38234586, 20.76750999]),\n",
              " 'test_rmse': array([4.28539157, 4.51098163, 4.14786106, 4.62410487, 4.55713836]),\n",
              " 'test_time': (0.0029582977294921875,\n",
              "  0.002272367477416992,\n",
              "  0.0021829605102539062,\n",
              "  0.0021820068359375,\n",
              "  0.002309560775756836)}"
            ]
          },
          "metadata": {
            "tags": []
          },
          "execution_count": 57
        }
      ]
    },
    {
      "cell_type": "markdown",
      "metadata": {
        "id": "a7EYEGcPprXJ"
      },
      "source": [
        "The average results of the cv procedure indicate that the performance is closer to the one obtained with a train-test split of the 90% - 10% "
      ]
    },
    {
      "cell_type": "markdown",
      "metadata": {
        "id": "rL1p1wfPspaX"
      },
      "source": [
        "# Explore different parameters of the SVD recommender algorithm:\n",
        "\n",
        "https://surprise.readthedocs.io/en/stable/matrix_factorization.html#surprise.prediction_algorithms.matrix_factorization.SVD\n"
      ]
    },
    {
      "cell_type": "markdown",
      "metadata": {
        "id": "wSigfaoFuL2r"
      },
      "source": [
        "Compare biased SVD versus unbiased SVD:\n"
      ]
    },
    {
      "cell_type": "code",
      "metadata": {
        "colab": {
          "base_uri": "https://localhost:8080/"
        },
        "id": "aS2NXZpquVxc",
        "outputId": "0d57f91a-e77e-4680-a308-6607e2b9b974"
      },
      "source": [
        "rec_svd_unbiased = SVD(biased = 'false')\n",
        "cross_validate(rec_svd_unbiased, data_small, measures=['RMSE', 'MAE','MSE'], cv=5, verbose=True)"
      ],
      "execution_count": 95,
      "outputs": [
        {
          "output_type": "stream",
          "text": [
            "Evaluating RMSE, MAE, MSE of algorithm SVD on 5 split(s).\n",
            "\n",
            "                  Fold 1  Fold 2  Fold 3  Fold 4  Fold 5  Mean    Std     \n",
            "RMSE (testset)    4.3226  4.2460  4.2779  4.8780  4.3656  4.4180  0.2335  \n",
            "MAE (testset)     3.3504  3.4220  3.4320  3.7910  3.3948  3.4781  0.1590  \n",
            "MSE (testset)     18.6849 18.0286 18.3003 23.7951 19.0581 19.5734 2.1394  \n",
            "Fit time          0.07    0.06    0.06    0.06    0.06    0.06    0.01    \n",
            "Test time         0.00    0.00    0.00    0.00    0.00    0.00    0.00    \n"
          ],
          "name": "stdout"
        },
        {
          "output_type": "execute_result",
          "data": {
            "text/plain": [
              "{'fit_time': (0.07158851623535156,\n",
              "  0.060149431228637695,\n",
              "  0.0580744743347168,\n",
              "  0.06408882141113281,\n",
              "  0.05853152275085449),\n",
              " 'test_mae': array([3.35042352, 3.42202714, 3.4320174 , 3.79097535, 3.39483064]),\n",
              " 'test_mse': array([18.68489237, 18.02858057, 18.30030867, 23.7950596 , 19.05806687]),\n",
              " 'test_rmse': array([4.3226025 , 4.2460076 , 4.27788601, 4.878018  , 4.36555459]),\n",
              " 'test_time': (0.0029599666595458984,\n",
              "  0.001783132553100586,\n",
              "  0.0017902851104736328,\n",
              "  0.00185394287109375,\n",
              "  0.0017931461334228516)}"
            ]
          },
          "metadata": {
            "tags": []
          },
          "execution_count": 95
        }
      ]
    },
    {
      "cell_type": "markdown",
      "metadata": {
        "id": "E8nL5K0wvEzB"
      },
      "source": [
        "The unbiased version is slightly better than the default biased one. "
      ]
    },
    {
      "cell_type": "markdown",
      "metadata": {
        "id": "pn4MI_bEpiE2"
      },
      "source": [
        "# Improve performance using grid search CV:\n",
        "\n",
        "\n",
        "https://surprise.readthedocs.io/en/stable/getting_started.html#tune-algorithm-parameters-with-gridsearchcv"
      ]
    },
    {
      "cell_type": "code",
      "metadata": {
        "colab": {
          "base_uri": "https://localhost:8080/"
        },
        "id": "hK8f3QnDmiPn",
        "outputId": "f000e4b9-2b30-4089-d30b-a956f18a37c1"
      },
      "source": [
        "from surprise import SVD\n",
        "from surprise import Dataset\n",
        "from surprise.model_selection import GridSearchCV\n",
        "\n",
        "param_grid = {'biased': ['true', 'false']}\n",
        "gs = GridSearchCV(SVD, param_grid, measures=['rmse', 'mae','mse'], cv=5)\n",
        "\n",
        "gs.fit(data_small)\n",
        "\n",
        "# best RMSE score\n",
        "print(gs.best_score['rmse'])\n",
        "print(gs.best_score['mae'])\n",
        "print(gs.best_score['mse'])\n",
        "\n",
        "\n",
        "# combination of parameters that gave the best RMSE score\n",
        "print('Best SVD parameters:')\n",
        "print(gs.best_params['rmse'])"
      ],
      "execution_count": 96,
      "outputs": [
        {
          "output_type": "stream",
          "text": [
            "4.433704681618332\n",
            "3.483266044438421\n",
            "19.684983126754226\n",
            "Best SVD parameters:\n",
            "{'biased': 'true'}\n"
          ],
          "name": "stdout"
        }
      ]
    }
  ]
}