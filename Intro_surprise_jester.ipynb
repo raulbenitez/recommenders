{
  "nbformat": 4,
  "nbformat_minor": 0,
  "metadata": {
    "colab": {
      "name": "Intro_surprise_jester.ipynb",
      "provenance": []
    },
    "kernelspec": {
      "name": "python3",
      "display_name": "Python 3"
    }
  },
  "cells": [
    {
      "cell_type": "markdown",
      "metadata": {
        "id": "Hp6mGoOqa8IB"
      },
      "source": [
        "## Install surpise libraries:"
      ]
    },
    {
      "cell_type": "code",
      "metadata": {
        "colab": {
          "base_uri": "https://localhost:8080/"
        },
        "id": "chYt2RSOD72a",
        "outputId": "e19c426b-4c23-4a64-a138-11b1c8d1cf6f"
      },
      "source": [
        "!pip install scikit-surprise"
      ],
      "execution_count": 3,
      "outputs": [
        {
          "output_type": "stream",
          "text": [
            "Collecting scikit-surprise\n",
            "\u001b[?25l  Downloading https://files.pythonhosted.org/packages/97/37/5d334adaf5ddd65da99fc65f6507e0e4599d092ba048f4302fe8775619e8/scikit-surprise-1.1.1.tar.gz (11.8MB)\n",
            "\u001b[K     |████████████████████████████████| 11.8MB 6.4MB/s \n",
            "\u001b[?25hRequirement already satisfied: joblib>=0.11 in /usr/local/lib/python3.6/dist-packages (from scikit-surprise) (1.0.0)\n",
            "Requirement already satisfied: numpy>=1.11.2 in /usr/local/lib/python3.6/dist-packages (from scikit-surprise) (1.19.5)\n",
            "Requirement already satisfied: scipy>=1.0.0 in /usr/local/lib/python3.6/dist-packages (from scikit-surprise) (1.4.1)\n",
            "Requirement already satisfied: six>=1.10.0 in /usr/local/lib/python3.6/dist-packages (from scikit-surprise) (1.15.0)\n",
            "Building wheels for collected packages: scikit-surprise\n",
            "  Building wheel for scikit-surprise (setup.py) ... \u001b[?25l\u001b[?25hdone\n",
            "  Created wheel for scikit-surprise: filename=scikit_surprise-1.1.1-cp36-cp36m-linux_x86_64.whl size=1618268 sha256=e4118f073ab8531229c259c4887f94d55f389e88f1589471514d825415c42edf\n",
            "  Stored in directory: /root/.cache/pip/wheels/78/9c/3d/41b419c9d2aff5b6e2b4c0fc8d25c538202834058f9ed110d0\n",
            "Successfully built scikit-surprise\n",
            "Installing collected packages: scikit-surprise\n",
            "Successfully installed scikit-surprise-1.1.1\n"
          ],
          "name": "stdout"
        }
      ]
    },
    {
      "cell_type": "markdown",
      "metadata": {
        "id": "Wqu7JWVgbBPI"
      },
      "source": [
        "## Load jester database\n",
        "\n",
        "And some exploration of the data\n",
        "\n",
        "https://www.kaggle.com/raidevesh05/movie-ratings-dataset?select=movie_ratings.csv"
      ]
    },
    {
      "cell_type": "code",
      "metadata": {
        "colab": {
          "base_uri": "https://localhost:8080/"
        },
        "id": "VH13EiCywxIt",
        "outputId": "b693555b-2ae2-4e65-efe1-acf7e3edb8dd"
      },
      "source": [
        "from surprise import SVD\n",
        "from surprise import Dataset\n",
        "from surprise.model_selection import cross_validate\n",
        "\n",
        "data = Dataset.load_builtin('jester')"
      ],
      "execution_count": 13,
      "outputs": [
        {
          "output_type": "stream",
          "text": [
            "Dataset jester could not be found. Do you want to download it? [Y/n] Y\n",
            "Trying to download dataset from http://eigentaste.berkeley.edu/dataset/archive/jester_dataset_2.zip...\n",
            "Done! Dataset jester has been saved to /root/.surprise_data/jester\n"
          ],
          "name": "stdout"
        }
      ]
    },
    {
      "cell_type": "markdown",
      "metadata": {
        "id": "sUXtW3I97RwZ"
      },
      "source": [
        "Access the ratings from the raw data:"
      ]
    },
    {
      "cell_type": "code",
      "metadata": {
        "colab": {
          "base_uri": "https://localhost:8080/"
        },
        "id": "X-6y0_5KWcem",
        "outputId": "5b30c892-8b5b-439b-962c-57d70316b68f"
      },
      "source": [
        "raw_data = data.raw_ratings\n",
        "print(\"Each entry has the columns: user_id, item_id,  rating and timestamp\")\n",
        "print(raw_data[0])\n",
        "print(raw_data[1])\n",
        "print(raw_data[2])\n",
        "print(\"\\n\")"
      ],
      "execution_count": 58,
      "outputs": [
        {
          "output_type": "stream",
          "text": [
            "Each entry has the columns: user_id, item_id,  rating and timestamp\n",
            "('1', '5', 0.219, None)\n",
            "('1', '7', -9.281, None)\n",
            "('1', '8', -9.281, None)\n",
            "\n",
            "\n"
          ],
          "name": "stdout"
        }
      ]
    },
    {
      "cell_type": "markdown",
      "metadata": {
        "id": "FAEs7rvhbgsv"
      },
      "source": [
        "Load as a pandas dataframe for convenience to manipulate data:"
      ]
    },
    {
      "cell_type": "code",
      "metadata": {
        "colab": {
          "base_uri": "https://localhost:8080/",
          "height": 431
        },
        "id": "22xd2-iGDzES",
        "outputId": "2e20f77e-fd47-4711-a76a-eb07a39f3083"
      },
      "source": [
        "import pandas as pd\n",
        "df = pd.DataFrame(data.__dict__['raw_ratings'], columns=['user_id', 'item_id', 'rating', 'timestamp'])\n",
        "df.head()"
      ],
      "execution_count": 104,
      "outputs": [
        {
          "output_type": "error",
          "ename": "ValueError",
          "evalue": "ignored",
          "traceback": [
            "\u001b[0;31m---------------------------------------------------------------------------\u001b[0m",
            "\u001b[0;31mAssertionError\u001b[0m                            Traceback (most recent call last)",
            "\u001b[0;32m/usr/local/lib/python3.6/dist-packages/pandas/core/internals/construction.py\u001b[0m in \u001b[0;36m_list_to_arrays\u001b[0;34m(data, columns, coerce_float, dtype)\u001b[0m\n\u001b[1;32m    563\u001b[0m     \u001b[0;32mtry\u001b[0m\u001b[0;34m:\u001b[0m\u001b[0;34m\u001b[0m\u001b[0;34m\u001b[0m\u001b[0m\n\u001b[0;32m--> 564\u001b[0;31m         \u001b[0mcolumns\u001b[0m \u001b[0;34m=\u001b[0m \u001b[0m_validate_or_indexify_columns\u001b[0m\u001b[0;34m(\u001b[0m\u001b[0mcontent\u001b[0m\u001b[0;34m,\u001b[0m \u001b[0mcolumns\u001b[0m\u001b[0;34m)\u001b[0m\u001b[0;34m\u001b[0m\u001b[0;34m\u001b[0m\u001b[0m\n\u001b[0m\u001b[1;32m    565\u001b[0m         \u001b[0mresult\u001b[0m \u001b[0;34m=\u001b[0m \u001b[0m_convert_object_array\u001b[0m\u001b[0;34m(\u001b[0m\u001b[0mcontent\u001b[0m\u001b[0;34m,\u001b[0m \u001b[0mdtype\u001b[0m\u001b[0;34m=\u001b[0m\u001b[0mdtype\u001b[0m\u001b[0;34m,\u001b[0m \u001b[0mcoerce_float\u001b[0m\u001b[0;34m=\u001b[0m\u001b[0mcoerce_float\u001b[0m\u001b[0;34m)\u001b[0m\u001b[0;34m\u001b[0m\u001b[0;34m\u001b[0m\u001b[0m\n",
            "\u001b[0;32m/usr/local/lib/python3.6/dist-packages/pandas/core/internals/construction.py\u001b[0m in \u001b[0;36m_validate_or_indexify_columns\u001b[0;34m(content, columns)\u001b[0m\n\u001b[1;32m    688\u001b[0m             raise AssertionError(\n\u001b[0;32m--> 689\u001b[0;31m                 \u001b[0;34mf\"{len(columns)} columns passed, passed data had \"\u001b[0m\u001b[0;34m\u001b[0m\u001b[0;34m\u001b[0m\u001b[0m\n\u001b[0m\u001b[1;32m    690\u001b[0m                 \u001b[0;34mf\"{len(content)} columns\"\u001b[0m\u001b[0;34m\u001b[0m\u001b[0;34m\u001b[0m\u001b[0m\n",
            "\u001b[0;31mAssertionError\u001b[0m: 3 columns passed, passed data had 4 columns",
            "\nThe above exception was the direct cause of the following exception:\n",
            "\u001b[0;31mValueError\u001b[0m                                Traceback (most recent call last)",
            "\u001b[0;32m<ipython-input-104-d21e7a5e4695>\u001b[0m in \u001b[0;36m<module>\u001b[0;34m()\u001b[0m\n\u001b[1;32m      1\u001b[0m \u001b[0;32mimport\u001b[0m \u001b[0mpandas\u001b[0m \u001b[0;32mas\u001b[0m \u001b[0mpd\u001b[0m\u001b[0;34m\u001b[0m\u001b[0;34m\u001b[0m\u001b[0m\n\u001b[0;32m----> 2\u001b[0;31m \u001b[0mdf\u001b[0m \u001b[0;34m=\u001b[0m \u001b[0mpd\u001b[0m\u001b[0;34m.\u001b[0m\u001b[0mDataFrame\u001b[0m\u001b[0;34m(\u001b[0m\u001b[0mdata\u001b[0m\u001b[0;34m.\u001b[0m\u001b[0m__dict__\u001b[0m\u001b[0;34m[\u001b[0m\u001b[0;34m'raw_ratings'\u001b[0m\u001b[0;34m]\u001b[0m\u001b[0;34m,\u001b[0m \u001b[0mcolumns\u001b[0m\u001b[0;34m=\u001b[0m\u001b[0;34m[\u001b[0m\u001b[0;34m'user_id'\u001b[0m\u001b[0;34m,\u001b[0m \u001b[0;34m'item_id'\u001b[0m\u001b[0;34m,\u001b[0m \u001b[0;34m'rating'\u001b[0m\u001b[0;34m]\u001b[0m\u001b[0;34m)\u001b[0m\u001b[0;34m\u001b[0m\u001b[0;34m\u001b[0m\u001b[0m\n\u001b[0m\u001b[1;32m      3\u001b[0m \u001b[0mdf\u001b[0m\u001b[0;34m.\u001b[0m\u001b[0mhead\u001b[0m\u001b[0;34m(\u001b[0m\u001b[0;34m)\u001b[0m\u001b[0;34m\u001b[0m\u001b[0;34m\u001b[0m\u001b[0m\n",
            "\u001b[0;32m/usr/local/lib/python3.6/dist-packages/pandas/core/frame.py\u001b[0m in \u001b[0;36m__init__\u001b[0;34m(self, data, index, columns, dtype, copy)\u001b[0m\n\u001b[1;32m    507\u001b[0m                     \u001b[0;32mif\u001b[0m \u001b[0mis_named_tuple\u001b[0m\u001b[0;34m(\u001b[0m\u001b[0mdata\u001b[0m\u001b[0;34m[\u001b[0m\u001b[0;36m0\u001b[0m\u001b[0;34m]\u001b[0m\u001b[0;34m)\u001b[0m \u001b[0;32mand\u001b[0m \u001b[0mcolumns\u001b[0m \u001b[0;32mis\u001b[0m \u001b[0;32mNone\u001b[0m\u001b[0;34m:\u001b[0m\u001b[0;34m\u001b[0m\u001b[0;34m\u001b[0m\u001b[0m\n\u001b[1;32m    508\u001b[0m                         \u001b[0mcolumns\u001b[0m \u001b[0;34m=\u001b[0m \u001b[0mdata\u001b[0m\u001b[0;34m[\u001b[0m\u001b[0;36m0\u001b[0m\u001b[0;34m]\u001b[0m\u001b[0;34m.\u001b[0m\u001b[0m_fields\u001b[0m\u001b[0;34m\u001b[0m\u001b[0;34m\u001b[0m\u001b[0m\n\u001b[0;32m--> 509\u001b[0;31m                     \u001b[0marrays\u001b[0m\u001b[0;34m,\u001b[0m \u001b[0mcolumns\u001b[0m \u001b[0;34m=\u001b[0m \u001b[0mto_arrays\u001b[0m\u001b[0;34m(\u001b[0m\u001b[0mdata\u001b[0m\u001b[0;34m,\u001b[0m \u001b[0mcolumns\u001b[0m\u001b[0;34m,\u001b[0m \u001b[0mdtype\u001b[0m\u001b[0;34m=\u001b[0m\u001b[0mdtype\u001b[0m\u001b[0;34m)\u001b[0m\u001b[0;34m\u001b[0m\u001b[0;34m\u001b[0m\u001b[0m\n\u001b[0m\u001b[1;32m    510\u001b[0m                     \u001b[0mcolumns\u001b[0m \u001b[0;34m=\u001b[0m \u001b[0mensure_index\u001b[0m\u001b[0;34m(\u001b[0m\u001b[0mcolumns\u001b[0m\u001b[0;34m)\u001b[0m\u001b[0;34m\u001b[0m\u001b[0;34m\u001b[0m\u001b[0m\n\u001b[1;32m    511\u001b[0m \u001b[0;34m\u001b[0m\u001b[0m\n",
            "\u001b[0;32m/usr/local/lib/python3.6/dist-packages/pandas/core/internals/construction.py\u001b[0m in \u001b[0;36mto_arrays\u001b[0;34m(data, columns, coerce_float, dtype)\u001b[0m\n\u001b[1;32m    522\u001b[0m         \u001b[0;32mreturn\u001b[0m \u001b[0;34m[\u001b[0m\u001b[0;34m]\u001b[0m\u001b[0;34m,\u001b[0m \u001b[0;34m[\u001b[0m\u001b[0;34m]\u001b[0m  \u001b[0;31m# columns if columns is not None else []\u001b[0m\u001b[0;34m\u001b[0m\u001b[0;34m\u001b[0m\u001b[0m\n\u001b[1;32m    523\u001b[0m     \u001b[0;32mif\u001b[0m \u001b[0misinstance\u001b[0m\u001b[0;34m(\u001b[0m\u001b[0mdata\u001b[0m\u001b[0;34m[\u001b[0m\u001b[0;36m0\u001b[0m\u001b[0;34m]\u001b[0m\u001b[0;34m,\u001b[0m \u001b[0;34m(\u001b[0m\u001b[0mlist\u001b[0m\u001b[0;34m,\u001b[0m \u001b[0mtuple\u001b[0m\u001b[0;34m)\u001b[0m\u001b[0;34m)\u001b[0m\u001b[0;34m:\u001b[0m\u001b[0;34m\u001b[0m\u001b[0;34m\u001b[0m\u001b[0m\n\u001b[0;32m--> 524\u001b[0;31m         \u001b[0;32mreturn\u001b[0m \u001b[0m_list_to_arrays\u001b[0m\u001b[0;34m(\u001b[0m\u001b[0mdata\u001b[0m\u001b[0;34m,\u001b[0m \u001b[0mcolumns\u001b[0m\u001b[0;34m,\u001b[0m \u001b[0mcoerce_float\u001b[0m\u001b[0;34m=\u001b[0m\u001b[0mcoerce_float\u001b[0m\u001b[0;34m,\u001b[0m \u001b[0mdtype\u001b[0m\u001b[0;34m=\u001b[0m\u001b[0mdtype\u001b[0m\u001b[0;34m)\u001b[0m\u001b[0;34m\u001b[0m\u001b[0;34m\u001b[0m\u001b[0m\n\u001b[0m\u001b[1;32m    525\u001b[0m     \u001b[0;32melif\u001b[0m \u001b[0misinstance\u001b[0m\u001b[0;34m(\u001b[0m\u001b[0mdata\u001b[0m\u001b[0;34m[\u001b[0m\u001b[0;36m0\u001b[0m\u001b[0;34m]\u001b[0m\u001b[0;34m,\u001b[0m \u001b[0mabc\u001b[0m\u001b[0;34m.\u001b[0m\u001b[0mMapping\u001b[0m\u001b[0;34m)\u001b[0m\u001b[0;34m:\u001b[0m\u001b[0;34m\u001b[0m\u001b[0;34m\u001b[0m\u001b[0m\n\u001b[1;32m    526\u001b[0m         return _list_of_dict_to_arrays(\n",
            "\u001b[0;32m/usr/local/lib/python3.6/dist-packages/pandas/core/internals/construction.py\u001b[0m in \u001b[0;36m_list_to_arrays\u001b[0;34m(data, columns, coerce_float, dtype)\u001b[0m\n\u001b[1;32m    565\u001b[0m         \u001b[0mresult\u001b[0m \u001b[0;34m=\u001b[0m \u001b[0m_convert_object_array\u001b[0m\u001b[0;34m(\u001b[0m\u001b[0mcontent\u001b[0m\u001b[0;34m,\u001b[0m \u001b[0mdtype\u001b[0m\u001b[0;34m=\u001b[0m\u001b[0mdtype\u001b[0m\u001b[0;34m,\u001b[0m \u001b[0mcoerce_float\u001b[0m\u001b[0;34m=\u001b[0m\u001b[0mcoerce_float\u001b[0m\u001b[0;34m)\u001b[0m\u001b[0;34m\u001b[0m\u001b[0;34m\u001b[0m\u001b[0m\n\u001b[1;32m    566\u001b[0m     \u001b[0;32mexcept\u001b[0m \u001b[0mAssertionError\u001b[0m \u001b[0;32mas\u001b[0m \u001b[0me\u001b[0m\u001b[0;34m:\u001b[0m\u001b[0;34m\u001b[0m\u001b[0;34m\u001b[0m\u001b[0m\n\u001b[0;32m--> 567\u001b[0;31m         \u001b[0;32mraise\u001b[0m \u001b[0mValueError\u001b[0m\u001b[0;34m(\u001b[0m\u001b[0me\u001b[0m\u001b[0;34m)\u001b[0m \u001b[0;32mfrom\u001b[0m \u001b[0me\u001b[0m\u001b[0;34m\u001b[0m\u001b[0;34m\u001b[0m\u001b[0m\n\u001b[0m\u001b[1;32m    568\u001b[0m     \u001b[0;32mreturn\u001b[0m \u001b[0mresult\u001b[0m\u001b[0;34m,\u001b[0m \u001b[0mcolumns\u001b[0m\u001b[0;34m\u001b[0m\u001b[0;34m\u001b[0m\u001b[0m\n\u001b[1;32m    569\u001b[0m \u001b[0;34m\u001b[0m\u001b[0m\n",
            "\u001b[0;31mValueError\u001b[0m: 3 columns passed, passed data had 4 columns"
          ]
        }
      ]
    },
    {
      "cell_type": "markdown",
      "metadata": {
        "id": "awECRWC1eKW_"
      },
      "source": [
        "Dimension of the dataframe"
      ]
    },
    {
      "cell_type": "code",
      "metadata": {
        "colab": {
          "base_uri": "https://localhost:8080/"
        },
        "id": "wUN7dqSweMGF",
        "outputId": "50f03caf-e61b-4624-c7cb-a16ce2154cb0"
      },
      "source": [
        "dataframe.shape"
      ],
      "execution_count": 17,
      "outputs": [
        {
          "output_type": "execute_result",
          "data": {
            "text/plain": [
              "(1761439, 4)"
            ]
          },
          "metadata": {
            "tags": []
          },
          "execution_count": 17
        }
      ]
    },
    {
      "cell_type": "markdown",
      "metadata": {
        "id": "sOcNa1Ff7aT-"
      },
      "source": [
        "Check the average rating score"
      ]
    },
    {
      "cell_type": "code",
      "metadata": {
        "colab": {
          "base_uri": "https://localhost:8080/"
        },
        "id": "5cHm6bjA7dBV",
        "outputId": "b6e84928-7015-4af6-d054-36661192fd38"
      },
      "source": [
        "print(\"Mean value of the rating column: \" + str(dataframe[\"rating\"].mean())) "
      ],
      "execution_count": 76,
      "outputs": [
        {
          "output_type": "stream",
          "text": [
            "Mean value of the rating column: 1.6186024017864769\n"
          ],
          "name": "stdout"
        }
      ]
    },
    {
      "cell_type": "markdown",
      "metadata": {
        "id": "K4Aho3Lj1n29"
      },
      "source": [
        "Remove items with less than 20 ratings and users that have rated less than 10 times:\n"
      ]
    },
    {
      "cell_type": "code",
      "metadata": {
        "colab": {
          "base_uri": "https://localhost:8080/"
        },
        "id": "sZgWMzLU1wl9",
        "outputId": "b5dbbd2a-0f3d-4f8f-ffac-914da103e7f7"
      },
      "source": [
        "min_item_ratings = 200\n",
        "filter_items = df['item_id'].value_counts() > min_item_ratings\n",
        "filter_items = filter_items[filter_items].index.tolist()\n",
        "\n",
        "min_user_ratings = 130\n",
        "filter_users = df['user_id'].value_counts() > min_user_ratings\n",
        "filter_users = filter_users[filter_users].index.tolist()\n",
        "\n",
        "df_small = df[(df['item_id'].isin(filter_items)) & (df['user_id'].isin(filter_users))]\n",
        "print('The original data frame shape:\\t{}'.format(df.shape))\n",
        "print('The new data frame shape:\\t{}'.format(df_small.shape))"
      ],
      "execution_count": 53,
      "outputs": [
        {
          "output_type": "stream",
          "text": [
            "The original data frame shape:\t(1761439, 4)\n",
            "The new data frame shape:\t(1325, 4)\n"
          ],
          "name": "stdout"
        }
      ]
    },
    {
      "cell_type": "code",
      "metadata": {
        "colab": {
          "base_uri": "https://localhost:8080/",
          "height": 198
        },
        "id": "7d3nNPDu20cA",
        "outputId": "56eee124-a48d-4044-f026-10fdc8d9d616"
      },
      "source": [
        "df_small.head()"
      ],
      "execution_count": 54,
      "outputs": [
        {
          "output_type": "execute_result",
          "data": {
            "text/html": [
              "<div>\n",
              "<style scoped>\n",
              "    .dataframe tbody tr th:only-of-type {\n",
              "        vertical-align: middle;\n",
              "    }\n",
              "\n",
              "    .dataframe tbody tr th {\n",
              "        vertical-align: top;\n",
              "    }\n",
              "\n",
              "    .dataframe thead th {\n",
              "        text-align: right;\n",
              "    }\n",
              "</style>\n",
              "<table border=\"1\" class=\"dataframe\">\n",
              "  <thead>\n",
              "    <tr style=\"text-align: right;\">\n",
              "      <th></th>\n",
              "      <th>user_id</th>\n",
              "      <th>item_id</th>\n",
              "      <th>rating</th>\n",
              "      <th>timestamp</th>\n",
              "    </tr>\n",
              "  </thead>\n",
              "  <tbody>\n",
              "    <tr>\n",
              "      <th>1568</th>\n",
              "      <td>46</td>\n",
              "      <td>5</td>\n",
              "      <td>6.469</td>\n",
              "      <td>None</td>\n",
              "    </tr>\n",
              "    <tr>\n",
              "      <th>1569</th>\n",
              "      <td>46</td>\n",
              "      <td>7</td>\n",
              "      <td>-6.781</td>\n",
              "      <td>None</td>\n",
              "    </tr>\n",
              "    <tr>\n",
              "      <th>1570</th>\n",
              "      <td>46</td>\n",
              "      <td>8</td>\n",
              "      <td>8.625</td>\n",
              "      <td>None</td>\n",
              "    </tr>\n",
              "    <tr>\n",
              "      <th>1571</th>\n",
              "      <td>46</td>\n",
              "      <td>13</td>\n",
              "      <td>-8.062</td>\n",
              "      <td>None</td>\n",
              "    </tr>\n",
              "    <tr>\n",
              "      <th>1572</th>\n",
              "      <td>46</td>\n",
              "      <td>15</td>\n",
              "      <td>-4.156</td>\n",
              "      <td>None</td>\n",
              "    </tr>\n",
              "  </tbody>\n",
              "</table>\n",
              "</div>"
            ],
            "text/plain": [
              "     user_id item_id  rating timestamp\n",
              "1568      46       5   6.469      None\n",
              "1569      46       7  -6.781      None\n",
              "1570      46       8   8.625      None\n",
              "1571      46      13  -8.062      None\n",
              "1572      46      15  -4.156      None"
            ]
          },
          "metadata": {
            "tags": []
          },
          "execution_count": 54
        }
      ]
    },
    {
      "cell_type": "code",
      "metadata": {
        "colab": {
          "base_uri": "https://localhost:8080/"
        },
        "id": "OAK_R730WkkJ",
        "outputId": "55ffcd39-c5bf-4a86-c643-8f8e62413b32"
      },
      "source": [
        "print(\"Sample row in the dataset:\")\n",
        "print(df_small.loc[1568])\n",
        "print(\"\\n\")\n",
        "print(\"Sample column (item_id) in the dataset (first 10 values):\")\n",
        "print(df_small[\"item_id\"].head(10))\n",
        "print(\"\\n\")"
      ],
      "execution_count": 72,
      "outputs": [
        {
          "output_type": "stream",
          "text": [
            "Sample row in the dataset:\n",
            "user_id         46\n",
            "item_id          5\n",
            "rating       6.469\n",
            "timestamp     None\n",
            "Name: 1568, dtype: object\n",
            "\n",
            "\n",
            "Sample column (item_id) in the dataset (first 10 values):\n",
            "1568     5\n",
            "1569     7\n",
            "1570     8\n",
            "1571    13\n",
            "1572    15\n",
            "1573    16\n",
            "1574    17\n",
            "1575    18\n",
            "1576    19\n",
            "1577    20\n",
            "Name: item_id, dtype: object\n",
            "\n",
            "\n"
          ],
          "name": "stdout"
        }
      ]
    },
    {
      "cell_type": "markdown",
      "metadata": {
        "id": "wfRlILwzbP8r"
      },
      "source": [
        "Check how many users and and items are there in the dataset:"
      ]
    },
    {
      "cell_type": "code",
      "metadata": {
        "colab": {
          "base_uri": "https://localhost:8080/"
        },
        "id": "gQEV-g5NZeq0",
        "outputId": "ac53d5ee-6f21-4147-b420-ccd7e131ab1e"
      },
      "source": [
        "print(\"Number of users in the reduced database = \" + str(df_small[\"user_id\"].nunique()))\n",
        "print(\"Number of items in the reduced database = \" + str(df_small[\"item_id\"].nunique()))"
      ],
      "execution_count": 77,
      "outputs": [
        {
          "output_type": "stream",
          "text": [
            "Number of users in the reduced database = 10\n",
            "Number of items in the reduced database = 133\n"
          ],
          "name": "stdout"
        }
      ]
    },
    {
      "cell_type": "markdown",
      "metadata": {
        "id": "JihO3wGq3cAx"
      },
      "source": [
        "## Load data again from the reduced dataframe:"
      ]
    },
    {
      "cell_type": "code",
      "metadata": {
        "id": "LGfRkoZK3fdf"
      },
      "source": [
        "from surprise import Reader \n",
        "reader = Reader(rating_scale=(-10, 10))\n",
        "data_small = Dataset.load_from_df(df_small[['user_id', 'item_id', 'rating']], reader)"
      ],
      "execution_count": 79,
      "outputs": []
    },
    {
      "cell_type": "markdown",
      "metadata": {
        "id": "fhP69M4tbn4s"
      },
      "source": [
        "## Fit different recommender systems:\n",
        "\n",
        "First, create a trainable set using the build_full_trainset() method from surpise libraries:\n",
        "\n",
        "https://surprise.readthedocs.io/en/stable/dataset.html#surprise.dataset.DatasetAutoFolds.build_full_trainset\n",
        "\n"
      ]
    },
    {
      "cell_type": "code",
      "metadata": {
        "id": "RsKG-WXCW4vN"
      },
      "source": [
        "trainset = data_small.build_full_trainset()"
      ],
      "execution_count": 80,
      "outputs": []
    },
    {
      "cell_type": "markdown",
      "metadata": {
        "id": "xusfnM1McS8I"
      },
      "source": [
        "Now fit a SVD model-based recommender algorithm:\n",
        "\n"
      ]
    },
    {
      "cell_type": "code",
      "metadata": {
        "colab": {
          "base_uri": "https://localhost:8080/"
        },
        "id": "CBpdZqzycMWC",
        "outputId": "0e60935f-d314-4f6c-e45c-e0e697c18cbb"
      },
      "source": [
        "from surprise import SVD\n",
        "\n",
        "rec_svd = SVD()\n",
        "rec_svd.fit(trainset)"
      ],
      "execution_count": 81,
      "outputs": [
        {
          "output_type": "execute_result",
          "data": {
            "text/plain": [
              "<surprise.prediction_algorithms.matrix_factorization.SVD at 0x7f41c2712828>"
            ]
          },
          "metadata": {
            "tags": []
          },
          "execution_count": 81
        }
      ]
    },
    {
      "cell_type": "markdown",
      "metadata": {
        "id": "Ux5UVg-WcqlO"
      },
      "source": [
        "Predict the ranking of a certain item item_id from a certain user user_id"
      ]
    },
    {
      "cell_type": "code",
      "metadata": {
        "colab": {
          "base_uri": "https://localhost:8080/"
        },
        "id": "8iT-r9Rt-6s8",
        "outputId": "144c6806-4843-4ff4-aa1c-5c83fc8b12a0"
      },
      "source": [
        "raw_data = data_small.raw_ratings\n",
        "print(raw_data[10])"
      ],
      "execution_count": 101,
      "outputs": [
        {
          "output_type": "stream",
          "text": [
            "('46', '44', 6.75, None)\n"
          ],
          "name": "stdout"
        }
      ]
    },
    {
      "cell_type": "code",
      "metadata": {
        "colab": {
          "base_uri": "https://localhost:8080/"
        },
        "id": "1TUKc3xpcZ2t",
        "outputId": "cef9a3bf-0047-49a6-fd24-5a2c74d63af4"
      },
      "source": [
        "user_id = str(46)  # raw user id (as in the ratings file). They are **strings**!\n",
        "item_id = str(44)  # raw item id (as in the ratings file). They are **strings**!\n",
        "true_ranking = 6.75\n",
        "\n",
        "pred_svd = rec_svd.predict(user_id, item_id,r_ui=true_ranking,verbose=True)\n"
      ],
      "execution_count": 103,
      "outputs": [
        {
          "output_type": "stream",
          "text": [
            "user: 46         item: 44         r_ui = 6.75   est = 6.63   {'was_impossible': False}\n"
          ],
          "name": "stdout"
        }
      ]
    },
    {
      "cell_type": "code",
      "metadata": {
        "id": "DAPlyqCT79DS"
      },
      "source": [
        "df_small.loc"
      ],
      "execution_count": null,
      "outputs": []
    },
    {
      "cell_type": "markdown",
      "metadata": {
        "id": "QOOCYMT8lgkx"
      },
      "source": [
        "Evaluate performance using training set:"
      ]
    },
    {
      "cell_type": "code",
      "metadata": {
        "colab": {
          "base_uri": "https://localhost:8080/"
        },
        "id": "tODPjyrulszt",
        "outputId": "57baa985-85e8-418e-adeb-8ba56981b3d5"
      },
      "source": [
        "from surprise import accuracy\n",
        "\n",
        "testset = trainset.build_testset()\n",
        "train_pred = rec_svd.test(testset)\n",
        "accuracy.rmse(train_pred)\n",
        "accuracy.mae(train_pred)\n",
        "accuracy.mse(train_pred)"
      ],
      "execution_count": 91,
      "outputs": [
        {
          "output_type": "stream",
          "text": [
            "RMSE: 0.2835\n",
            "MAE:  0.2056\n",
            "MSE: 0.0804\n"
          ],
          "name": "stdout"
        },
        {
          "output_type": "execute_result",
          "data": {
            "text/plain": [
              "0.08038869522189881"
            ]
          },
          "metadata": {
            "tags": []
          },
          "execution_count": 91
        }
      ]
    },
    {
      "cell_type": "markdown",
      "metadata": {
        "id": "wzGfLHiHndVk"
      },
      "source": [
        "If we evaluate the performance with the training set we get a very low prediction error since the observations user to construct the model are also used to test it. This is not the normal procedure in machine learning. Instead, \n",
        "we split the dataset in training and test subsets. Let's see what happens when applying different propostions for the training and test subsets. \n"
      ]
    },
    {
      "cell_type": "markdown",
      "metadata": {
        "id": "V-qeR-brljvQ"
      },
      "source": [
        "Now split training and test:"
      ]
    },
    {
      "cell_type": "code",
      "metadata": {
        "colab": {
          "base_uri": "https://localhost:8080/"
        },
        "id": "0Ydg9c6jc8fY",
        "outputId": "9e5c2ec7-d819-4678-d4d3-0a3d0ddf9967"
      },
      "source": [
        "from surprise.model_selection import train_test_split\n",
        "\n",
        "print('90% training 10% test:')\n",
        "trainset, testset = train_test_split(data_small, test_size=.1)\n",
        "rec_svd.fit(trainset)\n",
        "train_pred = rec_svd.test(testset)\n",
        "accuracy.rmse(train_pred)\n",
        "accuracy.mae(train_pred)\n",
        "accuracy.mse(train_pred)\n",
        "\n",
        "print('75% training 25% test:')\n",
        "trainset, testset = train_test_split(data_small, test_size=.25)\n",
        "rec_svd.fit(trainset)\n",
        "train_pred = rec_svd.test(testset)\n",
        "accuracy.rmse(train_pred)\n",
        "accuracy.mae(train_pred)\n",
        "accuracy.mse(train_pred)\n",
        "\n",
        "print('10% training 90% test:')\n",
        "trainset, testset = train_test_split(data_small, test_size=.9)\n",
        "rec_svd.fit(trainset)\n",
        "train_pred = rec_svd.test(testset)\n",
        "accuracy.rmse(train_pred)\n",
        "accuracy.mae(train_pred)\n",
        "accuracy.mse(train_pred)\n"
      ],
      "execution_count": 93,
      "outputs": [
        {
          "output_type": "stream",
          "text": [
            "90% training 10% test:\n",
            "RMSE: 4.2181\n",
            "MAE:  3.2538\n",
            "MSE: 17.7921\n",
            "75% training 25% test:\n",
            "RMSE: 4.3183\n",
            "MAE:  3.4456\n",
            "MSE: 18.6480\n",
            "10% training 90% test:\n",
            "RMSE: 4.7076\n",
            "MAE:  3.8466\n",
            "MSE: 22.1619\n"
          ],
          "name": "stdout"
        },
        {
          "output_type": "execute_result",
          "data": {
            "text/plain": [
              "22.16187268708119"
            ]
          },
          "metadata": {
            "tags": []
          },
          "execution_count": 93
        }
      ]
    },
    {
      "cell_type": "markdown",
      "metadata": {
        "id": "p6w-2VXcoA5Z"
      },
      "source": [
        "It It is clear that the larger the training subset, the better the performance (i.e lower RMSE, MAE and MSE) when evaluated in the test subset. "
      ]
    },
    {
      "cell_type": "markdown",
      "metadata": {
        "id": "ycBwuHqNoNxp"
      },
      "source": [
        "# Cross-validation:\n",
        "\n",
        "Let's evaluate the performance using a 5-fold cross-validation (cv=5) procedure:\n"
      ]
    },
    {
      "cell_type": "code",
      "metadata": {
        "colab": {
          "base_uri": "https://localhost:8080/"
        },
        "id": "8zP9d2yrmW1X",
        "outputId": "c0f8955b-d7df-4558-dc78-14a3ac2b711c"
      },
      "source": [
        "cross_validate(rec_svd, data_small, measures=['RMSE', 'MAE','MSE'], cv=5, verbose=True)"
      ],
      "execution_count": 94,
      "outputs": [
        {
          "output_type": "stream",
          "text": [
            "Evaluating RMSE, MAE, MSE of algorithm SVD on 5 split(s).\n",
            "\n",
            "                  Fold 1  Fold 2  Fold 3  Fold 4  Fold 5  Mean    Std     \n",
            "RMSE (testset)    4.4457  4.7694  4.1768  4.5401  4.5205  4.4905  0.1906  \n",
            "MAE (testset)     3.5332  3.7774  3.2808  3.6047  3.4237  3.5239  0.1674  \n",
            "MSE (testset)     19.7641 22.7476 17.4458 20.6127 20.4349 20.2010 1.7024  \n",
            "Fit time          0.07    0.06    0.06    0.06    0.07    0.06    0.01    \n",
            "Test time         0.00    0.00    0.00    0.00    0.00    0.00    0.00    \n"
          ],
          "name": "stdout"
        },
        {
          "output_type": "execute_result",
          "data": {
            "text/plain": [
              "{'fit_time': (0.07156753540039062,\n",
              "  0.05886530876159668,\n",
              "  0.05785179138183594,\n",
              "  0.05864143371582031,\n",
              "  0.06502032279968262),\n",
              " 'test_mae': array([3.53321299, 3.77741846, 3.28076105, 3.60465084, 3.42369504]),\n",
              " 'test_mse': array([19.76405981, 22.74756866, 17.44576225, 20.612653  , 20.43488166]),\n",
              " 'test_rmse': array([4.44567878, 4.76944113, 4.17681245, 4.54011597, 4.52049573]),\n",
              " 'test_time': (0.002393960952758789,\n",
              "  0.0017268657684326172,\n",
              "  0.0017704963684082031,\n",
              "  0.0017855167388916016,\n",
              "  0.0018718242645263672)}"
            ]
          },
          "metadata": {
            "tags": []
          },
          "execution_count": 94
        }
      ]
    },
    {
      "cell_type": "markdown",
      "metadata": {
        "id": "a7EYEGcPprXJ"
      },
      "source": [
        "The average results of the cv procedure indicate that the performance is closer to the one obtained with a train-test split of the 90% - 10% "
      ]
    },
    {
      "cell_type": "markdown",
      "metadata": {
        "id": "rL1p1wfPspaX"
      },
      "source": [
        "# Explore different parameters of the SVD recommender algorithm:\n",
        "\n",
        "https://surprise.readthedocs.io/en/stable/matrix_factorization.html#surprise.prediction_algorithms.matrix_factorization.SVD\n"
      ]
    },
    {
      "cell_type": "markdown",
      "metadata": {
        "id": "wSigfaoFuL2r"
      },
      "source": [
        "Compare biased SVD versus unbiased SVD: "
      ]
    },
    {
      "cell_type": "code",
      "metadata": {
        "colab": {
          "base_uri": "https://localhost:8080/"
        },
        "id": "aS2NXZpquVxc",
        "outputId": "0d57f91a-e77e-4680-a308-6607e2b9b974"
      },
      "source": [
        "rec_svd_unbiased = SVD(biased = 'false')\n",
        "cross_validate(rec_svd_unbiased, data_small, measures=['RMSE', 'MAE','MSE'], cv=5, verbose=True)"
      ],
      "execution_count": 95,
      "outputs": [
        {
          "output_type": "stream",
          "text": [
            "Evaluating RMSE, MAE, MSE of algorithm SVD on 5 split(s).\n",
            "\n",
            "                  Fold 1  Fold 2  Fold 3  Fold 4  Fold 5  Mean    Std     \n",
            "RMSE (testset)    4.3226  4.2460  4.2779  4.8780  4.3656  4.4180  0.2335  \n",
            "MAE (testset)     3.3504  3.4220  3.4320  3.7910  3.3948  3.4781  0.1590  \n",
            "MSE (testset)     18.6849 18.0286 18.3003 23.7951 19.0581 19.5734 2.1394  \n",
            "Fit time          0.07    0.06    0.06    0.06    0.06    0.06    0.01    \n",
            "Test time         0.00    0.00    0.00    0.00    0.00    0.00    0.00    \n"
          ],
          "name": "stdout"
        },
        {
          "output_type": "execute_result",
          "data": {
            "text/plain": [
              "{'fit_time': (0.07158851623535156,\n",
              "  0.060149431228637695,\n",
              "  0.0580744743347168,\n",
              "  0.06408882141113281,\n",
              "  0.05853152275085449),\n",
              " 'test_mae': array([3.35042352, 3.42202714, 3.4320174 , 3.79097535, 3.39483064]),\n",
              " 'test_mse': array([18.68489237, 18.02858057, 18.30030867, 23.7950596 , 19.05806687]),\n",
              " 'test_rmse': array([4.3226025 , 4.2460076 , 4.27788601, 4.878018  , 4.36555459]),\n",
              " 'test_time': (0.0029599666595458984,\n",
              "  0.001783132553100586,\n",
              "  0.0017902851104736328,\n",
              "  0.00185394287109375,\n",
              "  0.0017931461334228516)}"
            ]
          },
          "metadata": {
            "tags": []
          },
          "execution_count": 95
        }
      ]
    },
    {
      "cell_type": "markdown",
      "metadata": {
        "id": "E8nL5K0wvEzB"
      },
      "source": [
        "The unbiased version is slightly better than the default biased one. "
      ]
    },
    {
      "cell_type": "markdown",
      "metadata": {
        "id": "pn4MI_bEpiE2"
      },
      "source": [
        "# Improve performance using grid search CV:\n",
        "\n",
        "\n",
        "https://surprise.readthedocs.io/en/stable/getting_started.html#tune-algorithm-parameters-with-gridsearchcv"
      ]
    },
    {
      "cell_type": "code",
      "metadata": {
        "colab": {
          "base_uri": "https://localhost:8080/"
        },
        "id": "hK8f3QnDmiPn",
        "outputId": "f000e4b9-2b30-4089-d30b-a956f18a37c1"
      },
      "source": [
        "from surprise import SVD\n",
        "from surprise import Dataset\n",
        "from surprise.model_selection import GridSearchCV\n",
        "\n",
        "param_grid = {'biased': ['true', 'false']}\n",
        "gs = GridSearchCV(SVD, param_grid, measures=['rmse', 'mae','mse'], cv=5)\n",
        "\n",
        "gs.fit(data_small)\n",
        "\n",
        "# best RMSE score\n",
        "print(gs.best_score['rmse'])\n",
        "print(gs.best_score['mae'])\n",
        "print(gs.best_score['mse'])\n",
        "\n",
        "\n",
        "# combination of parameters that gave the best RMSE score\n",
        "print('Best SVD parameters:')\n",
        "print(gs.best_params['rmse'])"
      ],
      "execution_count": 96,
      "outputs": [
        {
          "output_type": "stream",
          "text": [
            "4.433704681618332\n",
            "3.483266044438421\n",
            "19.684983126754226\n",
            "Best SVD parameters:\n",
            "{'biased': 'true'}\n"
          ],
          "name": "stdout"
        }
      ]
    }
  ]
}