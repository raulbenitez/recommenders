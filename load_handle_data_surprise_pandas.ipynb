{
  "nbformat": 4,
  "nbformat_minor": 0,
  "metadata": {
    "colab": {
      "name": "load_handle_data_surprise_pandas.ipynb",
      "provenance": [],
      "authorship_tag": "ABX9TyO7N4UnbdHCr6W6qT5LMadv",
      "include_colab_link": true
    },
    "kernelspec": {
      "name": "python3",
      "display_name": "Python 3"
    }
  },
  "cells": [
    {
      "cell_type": "markdown",
      "metadata": {
        "id": "view-in-github",
        "colab_type": "text"
      },
      "source": [
        "<a href=\"https://colab.research.google.com/github/raulbenitez/recommenders/blob/main/load_handle_data_surprise_pandas.ipynb\" target=\"_parent\"><img src=\"https://colab.research.google.com/assets/colab-badge.svg\" alt=\"Open In Colab\"/></a>"
      ]
    },
    {
      "cell_type": "markdown",
      "metadata": {
        "id": "HIaaM2JA3KNd"
      },
      "source": [
        "Install suprise libraries in google colab:"
      ]
    },
    {
      "cell_type": "code",
      "metadata": {
        "colab": {
          "base_uri": "https://localhost:8080/"
        },
        "id": "Wz8OWzk23Np4",
        "outputId": "d1a5377d-b2c5-4a31-b333-2af3a7a7f91b"
      },
      "source": [
        "!pip install scikit-surprise"
      ],
      "execution_count": 3,
      "outputs": [
        {
          "output_type": "stream",
          "text": [
            "Collecting scikit-surprise\n",
            "\u001b[?25l  Downloading https://files.pythonhosted.org/packages/97/37/5d334adaf5ddd65da99fc65f6507e0e4599d092ba048f4302fe8775619e8/scikit-surprise-1.1.1.tar.gz (11.8MB)\n",
            "\u001b[K     |████████████████████████████████| 11.8MB 5.3MB/s \n",
            "\u001b[?25hRequirement already satisfied: joblib>=0.11 in /usr/local/lib/python3.6/dist-packages (from scikit-surprise) (1.0.0)\n",
            "Requirement already satisfied: numpy>=1.11.2 in /usr/local/lib/python3.6/dist-packages (from scikit-surprise) (1.19.5)\n",
            "Requirement already satisfied: scipy>=1.0.0 in /usr/local/lib/python3.6/dist-packages (from scikit-surprise) (1.4.1)\n",
            "Requirement already satisfied: six>=1.10.0 in /usr/local/lib/python3.6/dist-packages (from scikit-surprise) (1.15.0)\n",
            "Building wheels for collected packages: scikit-surprise\n",
            "  Building wheel for scikit-surprise (setup.py) ... \u001b[?25l\u001b[?25hdone\n",
            "  Created wheel for scikit-surprise: filename=scikit_surprise-1.1.1-cp36-cp36m-linux_x86_64.whl size=1618255 sha256=e725045beffa24e869f65152d0350b971eb0ff3cf0e6343ae66f4db044c7939c\n",
            "  Stored in directory: /root/.cache/pip/wheels/78/9c/3d/41b419c9d2aff5b6e2b4c0fc8d25c538202834058f9ed110d0\n",
            "Successfully built scikit-surprise\n",
            "Installing collected packages: scikit-surprise\n",
            "Successfully installed scikit-surprise-1.1.1\n"
          ],
          "name": "stdout"
        }
      ]
    },
    {
      "cell_type": "markdown",
      "metadata": {
        "id": "21oHTaYA3DxS"
      },
      "source": [
        "Load Jesper data from built-in surprise dataset"
      ]
    },
    {
      "cell_type": "code",
      "metadata": {
        "colab": {
          "base_uri": "https://localhost:8080/"
        },
        "id": "-h7I2CKT2_Ie",
        "outputId": "69cc976d-cb2c-4d46-bd8f-8edb626810a9"
      },
      "source": [
        "from surprise import Dataset\n",
        "\n",
        "data = Dataset.load_builtin('jester')"
      ],
      "execution_count": 4,
      "outputs": [
        {
          "output_type": "stream",
          "text": [
            "Dataset jester could not be found. Do you want to download it? [Y/n] Y\n",
            "Trying to download dataset from http://eigentaste.berkeley.edu/dataset/archive/jester_dataset_2.zip...\n",
            "Done! Dataset jester has been saved to /root/.surprise_data/jester\n"
          ],
          "name": "stdout"
        }
      ]
    },
    {
      "cell_type": "markdown",
      "metadata": {
        "id": "JK6JF_hi3QnT"
      },
      "source": [
        "Convert data to a Pandas dataframe"
      ]
    },
    {
      "cell_type": "code",
      "metadata": {
        "id": "vqywQibj3UZQ"
      },
      "source": [
        "import pandas as pd\n",
        "df = pd.DataFrame(data.__dict__['raw_ratings'], columns=['user_id', 'item_id', 'rating', 'timestamp'])"
      ],
      "execution_count": 5,
      "outputs": []
    },
    {
      "cell_type": "markdown",
      "metadata": {
        "id": "W8blmb-f3Y1k"
      },
      "source": [
        "Perform basic manipulation and inspection of data:"
      ]
    },
    {
      "cell_type": "markdown",
      "metadata": {
        "id": "8Jc-xVkm3oZ9"
      },
      "source": [
        "List 10 first entries of the dataset:"
      ]
    },
    {
      "cell_type": "code",
      "metadata": {
        "colab": {
          "base_uri": "https://localhost:8080/",
          "height": 348
        },
        "id": "eZGcdB2X3b7F",
        "outputId": "9e50a1f8-2b24-44eb-b8d4-f4fce065296d"
      },
      "source": [
        "df.head(10) "
      ],
      "execution_count": 6,
      "outputs": [
        {
          "output_type": "execute_result",
          "data": {
            "text/html": [
              "<div>\n",
              "<style scoped>\n",
              "    .dataframe tbody tr th:only-of-type {\n",
              "        vertical-align: middle;\n",
              "    }\n",
              "\n",
              "    .dataframe tbody tr th {\n",
              "        vertical-align: top;\n",
              "    }\n",
              "\n",
              "    .dataframe thead th {\n",
              "        text-align: right;\n",
              "    }\n",
              "</style>\n",
              "<table border=\"1\" class=\"dataframe\">\n",
              "  <thead>\n",
              "    <tr style=\"text-align: right;\">\n",
              "      <th></th>\n",
              "      <th>user_id</th>\n",
              "      <th>item_id</th>\n",
              "      <th>rating</th>\n",
              "      <th>timestamp</th>\n",
              "    </tr>\n",
              "  </thead>\n",
              "  <tbody>\n",
              "    <tr>\n",
              "      <th>0</th>\n",
              "      <td>1</td>\n",
              "      <td>5</td>\n",
              "      <td>0.219</td>\n",
              "      <td>None</td>\n",
              "    </tr>\n",
              "    <tr>\n",
              "      <th>1</th>\n",
              "      <td>1</td>\n",
              "      <td>7</td>\n",
              "      <td>-9.281</td>\n",
              "      <td>None</td>\n",
              "    </tr>\n",
              "    <tr>\n",
              "      <th>2</th>\n",
              "      <td>1</td>\n",
              "      <td>8</td>\n",
              "      <td>-9.281</td>\n",
              "      <td>None</td>\n",
              "    </tr>\n",
              "    <tr>\n",
              "      <th>3</th>\n",
              "      <td>1</td>\n",
              "      <td>13</td>\n",
              "      <td>-6.781</td>\n",
              "      <td>None</td>\n",
              "    </tr>\n",
              "    <tr>\n",
              "      <th>4</th>\n",
              "      <td>1</td>\n",
              "      <td>15</td>\n",
              "      <td>0.875</td>\n",
              "      <td>None</td>\n",
              "    </tr>\n",
              "    <tr>\n",
              "      <th>5</th>\n",
              "      <td>1</td>\n",
              "      <td>16</td>\n",
              "      <td>-9.656</td>\n",
              "      <td>None</td>\n",
              "    </tr>\n",
              "    <tr>\n",
              "      <th>6</th>\n",
              "      <td>1</td>\n",
              "      <td>17</td>\n",
              "      <td>-9.031</td>\n",
              "      <td>None</td>\n",
              "    </tr>\n",
              "    <tr>\n",
              "      <th>7</th>\n",
              "      <td>1</td>\n",
              "      <td>18</td>\n",
              "      <td>-7.469</td>\n",
              "      <td>None</td>\n",
              "    </tr>\n",
              "    <tr>\n",
              "      <th>8</th>\n",
              "      <td>1</td>\n",
              "      <td>19</td>\n",
              "      <td>-8.719</td>\n",
              "      <td>None</td>\n",
              "    </tr>\n",
              "    <tr>\n",
              "      <th>9</th>\n",
              "      <td>1</td>\n",
              "      <td>20</td>\n",
              "      <td>-9.156</td>\n",
              "      <td>None</td>\n",
              "    </tr>\n",
              "  </tbody>\n",
              "</table>\n",
              "</div>"
            ],
            "text/plain": [
              "  user_id item_id  rating timestamp\n",
              "0       1       5   0.219      None\n",
              "1       1       7  -9.281      None\n",
              "2       1       8  -9.281      None\n",
              "3       1      13  -6.781      None\n",
              "4       1      15   0.875      None\n",
              "5       1      16  -9.656      None\n",
              "6       1      17  -9.031      None\n",
              "7       1      18  -7.469      None\n",
              "8       1      19  -8.719      None\n",
              "9       1      20  -9.156      None"
            ]
          },
          "metadata": {
            "tags": []
          },
          "execution_count": 6
        }
      ]
    },
    {
      "cell_type": "markdown",
      "metadata": {
        "id": "c_Sb17O93u_m"
      },
      "source": [
        "How many entries are there in the dataset?"
      ]
    },
    {
      "cell_type": "code",
      "metadata": {
        "colab": {
          "base_uri": "https://localhost:8080/"
        },
        "id": "aM45Besw3iAC",
        "outputId": "018672c0-d9d2-4810-8913-610acd0cee4c"
      },
      "source": [
        "df.shape[0] # 0: number of rows, 1: number of columns/variables"
      ],
      "execution_count": 7,
      "outputs": [
        {
          "output_type": "execute_result",
          "data": {
            "text/plain": [
              "1761439"
            ]
          },
          "metadata": {
            "tags": []
          },
          "execution_count": 7
        }
      ]
    },
    {
      "cell_type": "markdown",
      "metadata": {
        "id": "SlaII0nh4BMu"
      },
      "source": [
        "How many users and jokes are there in the database?"
      ]
    },
    {
      "cell_type": "code",
      "metadata": {
        "colab": {
          "base_uri": "https://localhost:8080/"
        },
        "id": "T9iSf4hA38ze",
        "outputId": "32a60bef-ccdf-4529-c1eb-7792775b9840"
      },
      "source": [
        "print('Number of users:')\n",
        "df[\"user_id\"].nunique() # number of users"
      ],
      "execution_count": 12,
      "outputs": [
        {
          "output_type": "stream",
          "text": [
            "Number of users:\n"
          ],
          "name": "stdout"
        },
        {
          "output_type": "execute_result",
          "data": {
            "text/plain": [
              "59132"
            ]
          },
          "metadata": {
            "tags": []
          },
          "execution_count": 12
        }
      ]
    },
    {
      "cell_type": "code",
      "metadata": {
        "colab": {
          "base_uri": "https://localhost:8080/"
        },
        "id": "-n4_M_NV4vI1",
        "outputId": "279bec74-0659-4449-83cc-9499f48d02d6"
      },
      "source": [
        "print('Number of items:')\n",
        "df[\"item_id\"].nunique() # number of items"
      ],
      "execution_count": 13,
      "outputs": [
        {
          "output_type": "stream",
          "text": [
            "Number of items:\n"
          ],
          "name": "stdout"
        },
        {
          "output_type": "execute_result",
          "data": {
            "text/plain": [
              "140"
            ]
          },
          "metadata": {
            "tags": []
          },
          "execution_count": 13
        }
      ]
    },
    {
      "cell_type": "markdown",
      "metadata": {
        "id": "kpzaiu3P4PiI"
      },
      "source": [
        "What is the rating of the user with user_id = 1 of the joke with item_id = 5?\n"
      ]
    },
    {
      "cell_type": "code",
      "metadata": {
        "colab": {
          "base_uri": "https://localhost:8080/",
          "height": 78
        },
        "id": "QOkiR0pa4Iw_",
        "outputId": "18c62a70-e578-42f3-ebca-678f1b85b30b"
      },
      "source": [
        "df.loc[(df[\"user_id\"]=='1') & (df[\"item_id\"]=='5')]"
      ],
      "execution_count": 14,
      "outputs": [
        {
          "output_type": "execute_result",
          "data": {
            "text/html": [
              "<div>\n",
              "<style scoped>\n",
              "    .dataframe tbody tr th:only-of-type {\n",
              "        vertical-align: middle;\n",
              "    }\n",
              "\n",
              "    .dataframe tbody tr th {\n",
              "        vertical-align: top;\n",
              "    }\n",
              "\n",
              "    .dataframe thead th {\n",
              "        text-align: right;\n",
              "    }\n",
              "</style>\n",
              "<table border=\"1\" class=\"dataframe\">\n",
              "  <thead>\n",
              "    <tr style=\"text-align: right;\">\n",
              "      <th></th>\n",
              "      <th>user_id</th>\n",
              "      <th>item_id</th>\n",
              "      <th>rating</th>\n",
              "      <th>timestamp</th>\n",
              "    </tr>\n",
              "  </thead>\n",
              "  <tbody>\n",
              "    <tr>\n",
              "      <th>0</th>\n",
              "      <td>1</td>\n",
              "      <td>5</td>\n",
              "      <td>0.219</td>\n",
              "      <td>None</td>\n",
              "    </tr>\n",
              "  </tbody>\n",
              "</table>\n",
              "</div>"
            ],
            "text/plain": [
              "  user_id item_id  rating timestamp\n",
              "0       1       5   0.219      None"
            ]
          },
          "metadata": {
            "tags": []
          },
          "execution_count": 14
        }
      ]
    },
    {
      "cell_type": "markdown",
      "metadata": {
        "id": "JO79Ovxs4hy0"
      },
      "source": [
        "Filter the database keeping only items that have rated at least min_item_ratings users and users that have rated at least min_user_ratings items:"
      ]
    },
    {
      "cell_type": "code",
      "metadata": {
        "colab": {
          "base_uri": "https://localhost:8080/"
        },
        "id": "XnE8GHL_4X3Q",
        "outputId": "9c953c38-62af-458f-ac97-bfbbb61ee655"
      },
      "source": [
        "min_item_ratings = 200\n",
        "filter_items = df['item_id'].value_counts() > min_item_ratings\n",
        "filter_items = filter_items[filter_items].index.tolist()\n",
        "\n",
        "min_user_ratings = 130\n",
        "filter_users = df['user_id'].value_counts() > min_user_ratings\n",
        "filter_users = filter_users[filter_users].index.tolist()\n",
        "\n",
        "df_small = df[(df['item_id'].isin(filter_items)) & (df['user_id'].isin(filter_users))]\n",
        "print('The original data frame shape:\\t{}'.format(df.shape))\n",
        "print('The new data frame shape:\\t{}'.format(df_small.shape))"
      ],
      "execution_count": 15,
      "outputs": [
        {
          "output_type": "stream",
          "text": [
            "The original data frame shape:\t(1761439, 4)\n",
            "The new data frame shape:\t(1325, 4)\n"
          ],
          "name": "stdout"
        }
      ]
    },
    {
      "cell_type": "markdown",
      "metadata": {
        "id": "41Xp8Gsz59w9"
      },
      "source": [
        "Convert dataframe back to a surprise variable using the reader and load_from_df functions:\n",
        "\n",
        "https://surprise.readthedocs.io/en/stable/getting_started.html#use-a-custom-dataset"
      ]
    },
    {
      "cell_type": "code",
      "metadata": {
        "id": "oTSdIzL26Esu"
      },
      "source": [
        "from surprise import Reader \n",
        "reader = Reader(rating_scale=(-10, 10))\n",
        "data_small = Dataset.load_from_df(df_small[['user_id', 'item_id', 'rating']], reader)"
      ],
      "execution_count": 17,
      "outputs": []
    },
    {
      "cell_type": "code",
      "metadata": {
        "id": "snFnkYLy6F4u"
      },
      "source": [
        ""
      ],
      "execution_count": null,
      "outputs": []
    }
  ]
}